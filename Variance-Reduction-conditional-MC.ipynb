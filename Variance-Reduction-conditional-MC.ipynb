{
 "cells": [
  {
   "cell_type": "markdown",
   "id": "eccd3963",
   "metadata": {},
   "source": [
    "# Conditional Monte Carlo"
   ]
  },
  {
   "cell_type": "markdown",
   "id": "65804c20",
   "metadata": {},
   "source": [
    "## Importing libraries"
   ]
  },
  {
   "cell_type": "code",
   "execution_count": 1,
   "id": "5e45e11a",
   "metadata": {},
   "outputs": [],
   "source": [
    "import numpy as np\n",
    "import pandas as pd\n",
    "import math\n",
    "from scipy.stats import norm\n",
    "import matplotlib.pyplot as plt\n",
    "from scipy.signal import savgol_filter\n",
    "import time"
   ]
  },
  {
   "cell_type": "markdown",
   "id": "682d49f3",
   "metadata": {},
   "source": [
    "## Defining Functions"
   ]
  },
  {
   "cell_type": "markdown",
   "id": "208ed0cc",
   "metadata": {},
   "source": [
    "## Black-Scholes Option Pricing"
   ]
  },
  {
   "cell_type": "code",
   "execution_count": 2,
   "id": "8d2b8668",
   "metadata": {},
   "outputs": [],
   "source": [
    "def bsm_price(S, k, r, t, sigma, option='call'):\n",
    "    '''Calculate Black-Scholes option price'''\n",
    "    d1 = (np.log(S/k) + (r + 0.5*sigma**2)*t) / (sigma*np.sqrt(t))\n",
    "    d2 = d1 - sigma*np.sqrt(t)\n",
    "    \n",
    "    if option == 'call':\n",
    "        price = S*norm.cdf(d1) - k*np.exp(-r*t)*norm.cdf(d2)\n",
    "    else:\n",
    "        price = k*np.exp(-r*t)*norm.cdf(-d2) - S*norm.cdf(-d1)\n",
    "    \n",
    "    return price"
   ]
  },
  {
   "cell_type": "markdown",
   "id": "ecebaff6",
   "metadata": {},
   "source": [
    "## Black Scholes Vega"
   ]
  },
  {
   "cell_type": "code",
   "execution_count": 3,
   "id": "e8d65601",
   "metadata": {},
   "outputs": [],
   "source": [
    "def bsm_vega(S, k, r, t, sigma):\n",
    "    '''Calculate Black-Scholes option vega'''\n",
    "    d1 = (np.log(S/k) + (r + 0.5*sigma**2)*t) / (sigma*np.sqrt(t))\n",
    "    vega = S*np.sqrt(t)*norm.pdf(d1)\n",
    "    return vega"
   ]
  },
  {
   "cell_type": "markdown",
   "id": "945f2281",
   "metadata": {},
   "source": [
    "## Implied Volatility Using Newton Rhapson Method"
   ]
  },
  {
   "cell_type": "code",
   "execution_count": 4,
   "id": "c54736d5",
   "metadata": {},
   "outputs": [],
   "source": [
    "def implied_vol(S, k, r, t, option_price, option='call'):\n",
    "    '''Calculate implied volatility using the Newton-Raphson method'''\n",
    "    tol = 1e-5\n",
    "    max_iter = 10000\n",
    "    sigma = 0.5\n",
    "    \n",
    "    for i in range(max_iter):\n",
    "        price = bsm_price(S, k, r, t, sigma, option)\n",
    "        vega = bsm_vega(S, k, r, t, sigma)\n",
    "        diff = price - option_price\n",
    "        \n",
    "        if abs(diff) < tol:\n",
    "            break\n",
    "        \n",
    "        sigma = sigma - diff/vega\n",
    "    \n",
    "    return sigma"
   ]
  },
  {
   "cell_type": "markdown",
   "id": "a00b6d45",
   "metadata": {},
   "source": [
    "## Heston Call Option Price"
   ]
  },
  {
   "cell_type": "code",
   "execution_count": 5,
   "id": "43f58eee",
   "metadata": {},
   "outputs": [],
   "source": [
    "import numpy as np\n",
    "from scipy.integrate import quad\n",
    "\n",
    "def HestonCallQuad(kappa, theta, sigma, rho, v0, r, T, s0, K):\n",
    "    call = s0 * HestonP(kappa, theta, sigma, rho, v0, r, T, s0, K, 1) - \\\n",
    "           K * np.exp(-r * T) * HestonP(kappa, theta, sigma, rho, v0, r, T, s0, K, 2)\n",
    "    return call\n",
    "\n",
    "def HestonP(kappa, theta, sigma, rho, v0, r, T, s0, K, type):\n",
    "    integrand = lambda phi: HestonPIntegrand(phi, kappa, theta, sigma, rho, v0, r, T, s0, K, type)\n",
    "    ret = 0.5 + (1/np.pi) * quad(integrand, 0, np.inf)[0]\n",
    "    return ret\n",
    "\n",
    "def HestonPIntegrand(phi, kappa, theta, sigma, rho, v0, r, T, s0, K, type):\n",
    "    ret = np.real(np.exp(-1j * phi * np.log(K)) * Hestf(phi, kappa, theta, sigma, rho, v0, r, T, s0, type) / (1j * phi))\n",
    "    return ret\n",
    "\n",
    "def Hestf(phi, kappa, theta, sigma, rho, v0, r, T, s0, type):\n",
    "    if type == 1:\n",
    "        u = 0.5\n",
    "        b = kappa - rho * sigma\n",
    "    else:\n",
    "        u = -0.5\n",
    "        b = kappa\n",
    "    d = np.sqrt((rho * sigma * phi * 1j - b)**2 - (2 * u * phi * 1j - phi**2) * sigma**2)\n",
    "\n",
    "    g = (b - rho * sigma * phi * 1j - d) / (b - rho * sigma * phi * 1j + d)\n",
    "\n",
    "    C = (theta * kappa / sigma**2) * ((b - rho * sigma * phi * 1j - d) * T - 2 * np.log((1 - g * np.exp(-d * T)) / (1 - g)))\n",
    "    D = (1 / sigma**2) * (b - rho * sigma * phi * 1j - d) * ((1 - np.exp(-d * T)) / (1 - g * np.exp(-d * T)))\n",
    "\n",
    "    f = np.exp(C + D * v0 + 1j * phi * (np.log(s0) + r * T))\n",
    "    return f"
   ]
  },
  {
   "cell_type": "markdown",
   "id": "0f81f10b",
   "metadata": {},
   "source": [
    "## Initializing Parameters"
   ]
  },
  {
   "cell_type": "code",
   "execution_count": 6,
   "id": "7774c610",
   "metadata": {},
   "outputs": [],
   "source": [
    "S0 = 100\n",
    "r = 0.05\n",
    "K = np.arange(90, 121,5).reshape(1,7)      #column vector\n",
    "T = 3/12      # time to maurity\n",
    "dt = 1/365    #Setting step size delta t = 1/365\n",
    "steps = int(90)\n",
    "\n",
    "## CIR Parameters\n",
    "X0 = 0.2\n",
    "kappa = 3\n",
    "theta = 0.2\n",
    "rho = np.array([0, -0.3, -0.7])\n",
    "sigma = np.sqrt(2*theta*kappa)\n",
    "\n",
    "M = 20000 # number of monter carlo simulations\n",
    "N = steps+1\n",
    "num_est = 100\n"
   ]
  },
  {
   "cell_type": "markdown",
   "id": "5408675d",
   "metadata": {},
   "source": [
    "## Initializing Necessary Arrays\n",
    "\n"
   ]
  },
  {
   "cell_type": "code",
   "execution_count": 7,
   "id": "d955d79a",
   "metadata": {},
   "outputs": [],
   "source": [
    "stock_price = np.zeros((1,M))\n",
    "strike = np.tile(K,(M,1)) \n",
    "call_mc = np.zeros((rho.shape[0], K.shape[1], num_est))\n",
    "call_cmc = np.zeros((rho.shape[0],K.shape[1], num_est))\n",
    "discount = math.exp(-r*T)  \n",
    "\n",
    "imp_vol_mc = np.zeros((rho.shape[0], K.shape[1], num_est))\n",
    "imp_vol_cmc = np.zeros((rho.shape[0], K.shape[1], num_est))\n",
    "\n",
    "## Conditional Montecarlo\n",
    "Z_cm = np.zeros((1,M))\n",
    "sigma_cm = Z = np.zeros((1,M))\n",
    "\n",
    "\n",
    "Z_cm = np.zeros((rho.shape[0], num_est, M))\n",
    "sigma_cm = Z = np.zeros((rho.shape[0], num_est, M))\n",
    "\n",
    "S_cm = np.zeros(call_cmc.shape)\n",
    "heston_call = np.zeros((len(rho),K.shape[1]))\n",
    "\n",
    "price = np.zeros((rho.shape[0],K.shape[1],5))\n",
    "implied_volatility = np.zeros((rho.shape[0],K.shape[1],5))"
   ]
  },
  {
   "cell_type": "markdown",
   "id": "3618cfe0",
   "metadata": {},
   "source": [
    "## Main Code for MC and CMC"
   ]
  },
  {
   "cell_type": "code",
   "execution_count": 8,
   "id": "2f31ea4f",
   "metadata": {},
   "outputs": [
    {
     "name": "stdout",
     "output_type": "stream",
     "text": [
      "Total time required :  62.72668695449829\n"
     ]
    }
   ],
   "source": [
    "start = time.time()\n",
    "for i, rh in enumerate(rho):\n",
    "    for j in range(num_est):\n",
    "        X_implicit = X0 * np.ones((M,N))\n",
    "        Y = np.log(S0) * np.ones((M,N))\n",
    "        dW = np.random.normal(0,1,size = (M,N))*np.sqrt(dt)   # standard brownian motion\n",
    "        dB = np.random.normal(0,1,size = (M,N))*np.sqrt(dt)     # standard brownian motion    \n",
    "        for t in range(1,N):\n",
    "            ## Simulate CIR process using implicit scheme\n",
    "#             c = -(1 - kappa * dt ) * X_implicit[:,t-1] - (kappa * theta - 0.5 * sigma**2) * dt\n",
    "#             b = - sigma * dW[:,t]\n",
    "#             a = 1\n",
    "#             root = (-b + np.sqrt(b**2 - 4*a*c))/(2*a)\n",
    "#             X_implicit[:,t] = root**2\n",
    "            \n",
    "            X_implicit[:,t] = (1 - kappa * dt ) * X_implicit[:,t -1] + kappa * theta * dt + sigma * np.sqrt(np.maximum(X_implicit[:,t -1],0))*dW[:,t]\n",
    "            Y[:,t] = Y[:,t-1] + ((np.full((M),r) - 0.5 * X_implicit[:,t-1])*dt) + \\\n",
    "                             ((np.sqrt(np.maximum(X_implicit[:,t-1],0))*(rh*dW[:,t] + np.sqrt(1-rh**2) * dB[:,t])))\n",
    "    \n",
    "        z = rh * np.sum(np.sqrt(np.maximum(X_implicit,0))*dB, axis = 1) - 0.5*(rh**2)*np.sum(X_implicit*dt, axis = 1)\n",
    "        sig = np.sqrt((1-rh**2)*np.sum(X_implicit*dt, axis = 1)/T)\n",
    "\n",
    "        Z_cm[i,j,:] = z\n",
    "        sigma_cm[i,j,:] = sig \n",
    "        \n",
    "        #np.vstack([sigma_cm,sig.reshape(1,M)])\n",
    "\n",
    "        S = np.repeat(np.exp(Y[:,-1]).reshape(M,1),K.shape[1],axis = 1)\n",
    "        call_mc[i,:,j] = discount*np.mean(np.maximum(S - strike,0),axis = 0)\n",
    "        \n",
    "# Z_cm = Z_cm[1:,:]\n",
    "# sigma_cm = sigma_cm[1:,:]\n",
    "S_cmc = S0*np.exp(Z_cm)\n",
    "end = time.time()\n",
    "print(\"Total time required : \", end-start)"
   ]
  },
  {
   "cell_type": "markdown",
   "id": "24eb135b",
   "metadata": {},
   "source": [
    "## Calculating Call Price Using Conditional MC"
   ]
  },
  {
   "cell_type": "code",
   "execution_count": 9,
   "id": "4af63034",
   "metadata": {},
   "outputs": [],
   "source": [
    "for i,k in enumerate(K[0]):\n",
    "    c = bsm_price(S_cmc, k, r, T, sigma_cm, option='call')\n",
    "    call_cmc[:,i,:] = np.mean(c, axis = 2)"
   ]
  },
  {
   "cell_type": "markdown",
   "id": "e7ad3f77",
   "metadata": {},
   "source": [
    "## Implied Volatility Calculation"
   ]
  },
  {
   "cell_type": "code",
   "execution_count": 10,
   "id": "5f4b0f45",
   "metadata": {},
   "outputs": [],
   "source": [
    "for i in range(S_cm.shape[0]):\n",
    "    S_cm[i,:,:] = np.repeat(np.mean(S_cmc, axis = 2)[i,:].reshape(1,num_est),7, axis = 0)\n",
    "\n",
    "## Calculating Implied Volatility for MC and CMC using Newton Rahpson Method\n",
    "\n",
    "for i in range(call_mc.shape[0]):\n",
    "    for j in range(call_mc.shape[1]):\n",
    "        for k in range(call_mc.shape[2]):\n",
    "            imp_vol_mc[i,j,k] = implied_vol(S0,float(K[0,j]),r,T,float(call_mc[i,j,k]),'call')\n",
    "            \n",
    "for i in range(call_cmc.shape[0]):\n",
    "    for j in range(call_cmc.shape[1]):\n",
    "        for k in range(call_cmc.shape[2]):\n",
    "            imp_vol_cmc[i,j,k] = implied_vol(S_cm[i,j,k],float(K[0,j]),r,T,float(call_cmc[i,j,k]),'call')\n",
    "\n",
    "            "
   ]
  },
  {
   "cell_type": "markdown",
   "id": "4f921309",
   "metadata": {},
   "source": [
    "## Heston Call Price"
   ]
  },
  {
   "cell_type": "code",
   "execution_count": 11,
   "id": "6eda4470",
   "metadata": {},
   "outputs": [],
   "source": [
    "for i, rh in enumerate(rho):\n",
    "    for j, strike in enumerate(K[0]):\n",
    "        heston_call[i,j] = HestonCallQuad(kappa,theta,sigma, rh, X0, r, T, S0, strike)"
   ]
  },
  {
   "cell_type": "markdown",
   "id": "e5810a8d",
   "metadata": {},
   "source": [
    "## Heston Implied Volatility"
   ]
  },
  {
   "cell_type": "code",
   "execution_count": 12,
   "id": "26966646",
   "metadata": {},
   "outputs": [],
   "source": [
    "hest_impvol = np.zeros((len(rho),K.shape[1]))\n",
    "for i, rh in enumerate(rho):\n",
    "    for j, strike in enumerate(K[0]):\n",
    "        heston_call[i,j] = HestonCallQuad(kappa,theta,sigma, rh, X0, r, T, S0, strike)\n",
    "for i,rh in enumerate(rho):\n",
    "    for j, strike in enumerate(K[0]):\n",
    "        hest_impvol[i,j] = implied_vol(S0, strike, r, T, heston_call[i,j], option='call')"
   ]
  },
  {
   "cell_type": "markdown",
   "id": "52689110",
   "metadata": {},
   "source": [
    "## Converting Numpy Arrays to DataFrames"
   ]
  },
  {
   "cell_type": "code",
   "execution_count": 13,
   "id": "19ae057c",
   "metadata": {},
   "outputs": [],
   "source": [
    "mc_rho_0 = pd.DataFrame(call_mc[0,:,:], index = [\"K = \" + str(i) for i in K[0]], columns = range(1,101))\n",
    "mc_rho_1 = pd.DataFrame(call_mc[1,:,:],index = [\"K = \" + str(i) for i in K[0]], columns = range(1,101))\n",
    "mc_rho_2 = pd.DataFrame(call_mc[2,:,:],index = [\"K = \" + str(i) for i in K[0]], columns = range(1,101))\n",
    "cmc_rho_0 = pd.DataFrame(call_cmc[0,:,:],index = [\"K = \" + str(i) for i in K[0]], columns = range(1,101))\n",
    "cmc_rho_1 = pd.DataFrame(call_cmc[1,:,:],index = [\"K = \" + str(i) for i in K[0]], columns = range(1,101))\n",
    "cmc_rho_2 = pd.DataFrame(call_cmc[2,:,:],index = [\"K = \" + str(i) for i in K[0]], columns = range(1,101))\n",
    "df_hc_1 = pd.DataFrame(heston_call[0,:], index = [\"K = \" + str(i) for i in K[0]],columns = ['Heston Call Price'])\n",
    "df_hc_2 = pd.DataFrame(heston_call[1,:], index = [\"K = \" + str(i) for i in K[0]],columns = ['Heston Call Price'])\n",
    "df_hc_3 = pd.DataFrame(heston_call[2,:], index = [\"K = \" + str(i) for i in K[0]],columns = ['Heston Call Price'])\n",
    "df_hc_ivol_1 = pd.DataFrame(hest_impvol[0,:], index = [\"K = \" + str(i) for i in K[0]],columns = ['Heston Implied Volatility'])\n",
    "df_hc_ivol_2 = pd.DataFrame(hest_impvol[1,:], index = [\"K = \" + str(i) for i in K[0]],columns = ['Heston Implied Volatility'])\n",
    "df_hc_ivol_3 = pd.DataFrame(hest_impvol[2,:], index = [\"K = \" + str(i) for i in K[0]],columns = ['Heston Implied Volatility'])\n"
   ]
  },
  {
   "cell_type": "markdown",
   "id": "e4f2e722",
   "metadata": {},
   "source": [
    "## Average and SE of MC and CMC prices"
   ]
  },
  {
   "cell_type": "code",
   "execution_count": 14,
   "id": "8fd74ae4",
   "metadata": {},
   "outputs": [],
   "source": [
    "price_avg_mc = np.mean(call_mc, axis = 2)       ## 3x7 numpy array\n",
    "price_avg_cmc = np.mean(call_cmc, axis = 2)    ## 3x7 numpy array\n",
    "price_se_mc = np.std(call_mc, axis = 2)      ## 3x7 numpy array\n",
    "price_se_cmc = np.std(call_cmc, axis = 2)     ## 3x7 numpy array"
   ]
  },
  {
   "cell_type": "markdown",
   "id": "7d1685d1",
   "metadata": {},
   "source": [
    "## Average and SE of MC and CMC Implied Vols"
   ]
  },
  {
   "cell_type": "code",
   "execution_count": 15,
   "id": "ff332e83",
   "metadata": {},
   "outputs": [],
   "source": [
    "imp_vol_avg_mc = np.mean(imp_vol_mc, axis = 2)       ## 3x7 numpy array\n",
    "imp_vol_avg_cmc = np.mean(imp_vol_cmc, axis = 2)    ## 3x7 numpy array\n",
    "imp_vol_se_mc = np.std(imp_vol_mc, axis = 2)      ## 3x7 numpy array\n",
    "imp_vol_se_cmc = np.std(imp_vol_cmc, axis = 2)     ## 3x7 numpy array"
   ]
  },
  {
   "cell_type": "markdown",
   "id": "50eb0b51",
   "metadata": {},
   "source": [
    "## Creating Final Data Array"
   ]
  },
  {
   "cell_type": "code",
   "execution_count": 16,
   "id": "2d3394a5",
   "metadata": {},
   "outputs": [],
   "source": [
    "for i,rh in enumerate(rho):\n",
    "    price[i,:,0] = heston_call[i,:]\n",
    "    price[i,:,1] = price_avg_mc[i,:]\n",
    "    price[i,:,2] = price_avg_cmc[i,:]\n",
    "    price[i,:,3] = price_se_mc[i,:]\n",
    "    price[i,:,4] = price_se_cmc[i,:]\n",
    "    implied_volatility[i,:,0] = hest_impvol[i,:]\n",
    "    implied_volatility[i,:,1] = imp_vol_avg_mc[i,:]\n",
    "    implied_volatility[i,:,2] = imp_vol_avg_cmc[i,:]\n",
    "    implied_volatility[i,:,3] = imp_vol_se_mc[i,:]\n",
    "    implied_volatility[i,:,4] = imp_vol_se_cmc[i,:]"
   ]
  },
  {
   "cell_type": "markdown",
   "id": "52e55afd",
   "metadata": {},
   "source": [
    "## Analysis of Price and Implied Volatilities"
   ]
  },
  {
   "cell_type": "code",
   "execution_count": 17,
   "id": "5116a811",
   "metadata": {},
   "outputs": [
    {
     "name": "stdout",
     "output_type": "stream",
     "text": [
      "Analysis of Prices for Rho = 0\n"
     ]
    },
    {
     "data": {
      "text/html": [
       "<div>\n",
       "<style scoped>\n",
       "    .dataframe tbody tr th:only-of-type {\n",
       "        vertical-align: middle;\n",
       "    }\n",
       "\n",
       "    .dataframe tbody tr th {\n",
       "        vertical-align: top;\n",
       "    }\n",
       "\n",
       "    .dataframe thead th {\n",
       "        text-align: right;\n",
       "    }\n",
       "</style>\n",
       "<table border=\"1\" class=\"dataframe\">\n",
       "  <thead>\n",
       "    <tr style=\"text-align: right;\">\n",
       "      <th></th>\n",
       "      <th>Heston Price</th>\n",
       "      <th>Avg. MC</th>\n",
       "      <th>Avg. CMC</th>\n",
       "      <th>Std-err MC</th>\n",
       "      <th>Std-err CMC</th>\n",
       "    </tr>\n",
       "    <tr>\n",
       "      <th>Strike</th>\n",
       "      <th></th>\n",
       "      <th></th>\n",
       "      <th></th>\n",
       "      <th></th>\n",
       "      <th></th>\n",
       "    </tr>\n",
       "  </thead>\n",
       "  <tbody>\n",
       "    <tr>\n",
       "      <th>90</th>\n",
       "      <td>14.924981</td>\n",
       "      <td>14.890312</td>\n",
       "      <td>14.918411</td>\n",
       "      <td>0.119018</td>\n",
       "      <td>0.013054</td>\n",
       "    </tr>\n",
       "    <tr>\n",
       "      <th>95</th>\n",
       "      <td>11.799417</td>\n",
       "      <td>11.760236</td>\n",
       "      <td>11.792156</td>\n",
       "      <td>0.109791</td>\n",
       "      <td>0.015023</td>\n",
       "    </tr>\n",
       "    <tr>\n",
       "      <th>100</th>\n",
       "      <td>9.170275</td>\n",
       "      <td>9.128765</td>\n",
       "      <td>9.162595</td>\n",
       "      <td>0.100110</td>\n",
       "      <td>0.016153</td>\n",
       "    </tr>\n",
       "    <tr>\n",
       "      <th>105</th>\n",
       "      <td>7.030752</td>\n",
       "      <td>6.989029</td>\n",
       "      <td>7.022954</td>\n",
       "      <td>0.089567</td>\n",
       "      <td>0.016322</td>\n",
       "    </tr>\n",
       "    <tr>\n",
       "      <th>110</th>\n",
       "      <td>5.338805</td>\n",
       "      <td>5.298104</td>\n",
       "      <td>5.331155</td>\n",
       "      <td>0.079628</td>\n",
       "      <td>0.015644</td>\n",
       "    </tr>\n",
       "    <tr>\n",
       "      <th>115</th>\n",
       "      <td>4.030416</td>\n",
       "      <td>3.991761</td>\n",
       "      <td>4.023110</td>\n",
       "      <td>0.070847</td>\n",
       "      <td>0.014380</td>\n",
       "    </tr>\n",
       "    <tr>\n",
       "      <th>120</th>\n",
       "      <td>3.034559</td>\n",
       "      <td>3.000150</td>\n",
       "      <td>3.027719</td>\n",
       "      <td>0.063279</td>\n",
       "      <td>0.012811</td>\n",
       "    </tr>\n",
       "  </tbody>\n",
       "</table>\n",
       "</div>"
      ],
      "text/plain": [
       "        Heston Price    Avg. MC   Avg. CMC  Std-err MC  Std-err CMC\n",
       "Strike                                                             \n",
       "90         14.924981  14.890312  14.918411    0.119018     0.013054\n",
       "95         11.799417  11.760236  11.792156    0.109791     0.015023\n",
       "100         9.170275   9.128765   9.162595    0.100110     0.016153\n",
       "105         7.030752   6.989029   7.022954    0.089567     0.016322\n",
       "110         5.338805   5.298104   5.331155    0.079628     0.015644\n",
       "115         4.030416   3.991761   4.023110    0.070847     0.014380\n",
       "120         3.034559   3.000150   3.027719    0.063279     0.012811"
      ]
     },
     "execution_count": 17,
     "metadata": {},
     "output_type": "execute_result"
    }
   ],
   "source": [
    "price_rho_0 = pd.DataFrame(price[0,:,:],index = [str(i) for i in K[0]],columns = ['Heston Price','Avg. MC', 'Avg. CMC', 'Std-err MC', 'Std-err CMC'])\n",
    "print(\"Analysis of Prices for Rho = 0\")\n",
    "price_rho_0 = price_rho_0.rename_axis('Strike')\n",
    "price_rho_0"
   ]
  },
  {
   "cell_type": "code",
   "execution_count": 18,
   "id": "78ca6e4d",
   "metadata": {},
   "outputs": [
    {
     "data": {
      "text/plain": [
       "Strike\n",
       "90    -89.031995\n",
       "95    -86.316633\n",
       "100   -83.864797\n",
       "105   -81.777127\n",
       "110   -80.353394\n",
       "115   -79.702926\n",
       "120   -79.754430\n",
       "dtype: float64"
      ]
     },
     "execution_count": 18,
     "metadata": {},
     "output_type": "execute_result"
    }
   ],
   "source": [
    "percent_reduction0 = 100 * (price_rho_0['Std-err CMC'] - price_rho_0['Std-err MC'])/price_rho_0['Std-err MC']\n",
    "percent_reduction0"
   ]
  },
  {
   "cell_type": "markdown",
   "id": "1e5171ac",
   "metadata": {},
   "source": [
    "## By comparing the standard errors for Monte Carlo and Conditional Monte Carlo, we observe that there is a higher variance reduction for in the money call options and it decreases as the call option becomes out of the money for ρ  = 0. The reduction in standard deviation is ~ 90% for in the money call options and it goes down to ~ 80% for out of the money call options."
   ]
  },
  {
   "cell_type": "code",
   "execution_count": 19,
   "id": "100e3ed9",
   "metadata": {},
   "outputs": [
    {
     "name": "stdout",
     "output_type": "stream",
     "text": [
      "Analysis of Prices for Rho = - 0.3\n"
     ]
    },
    {
     "data": {
      "text/html": [
       "<div>\n",
       "<style scoped>\n",
       "    .dataframe tbody tr th:only-of-type {\n",
       "        vertical-align: middle;\n",
       "    }\n",
       "\n",
       "    .dataframe tbody tr th {\n",
       "        vertical-align: top;\n",
       "    }\n",
       "\n",
       "    .dataframe thead th {\n",
       "        text-align: right;\n",
       "    }\n",
       "</style>\n",
       "<table border=\"1\" class=\"dataframe\">\n",
       "  <thead>\n",
       "    <tr style=\"text-align: right;\">\n",
       "      <th></th>\n",
       "      <th>Heston Price</th>\n",
       "      <th>Avg. MC</th>\n",
       "      <th>Avg. CMC</th>\n",
       "      <th>Std-err MC</th>\n",
       "      <th>Std-err CMC</th>\n",
       "    </tr>\n",
       "    <tr>\n",
       "      <th>Strike</th>\n",
       "      <th></th>\n",
       "      <th></th>\n",
       "      <th></th>\n",
       "      <th></th>\n",
       "      <th></th>\n",
       "    </tr>\n",
       "  </thead>\n",
       "  <tbody>\n",
       "    <tr>\n",
       "      <th>90</th>\n",
       "      <td>15.123767</td>\n",
       "      <td>15.067219</td>\n",
       "      <td>14.918804</td>\n",
       "      <td>0.107157</td>\n",
       "      <td>0.032862</td>\n",
       "    </tr>\n",
       "    <tr>\n",
       "      <th>95</th>\n",
       "      <td>11.899730</td>\n",
       "      <td>11.840692</td>\n",
       "      <td>11.791840</td>\n",
       "      <td>0.098487</td>\n",
       "      <td>0.030214</td>\n",
       "    </tr>\n",
       "    <tr>\n",
       "      <th>100</th>\n",
       "      <td>9.135562</td>\n",
       "      <td>9.076150</td>\n",
       "      <td>9.161854</td>\n",
       "      <td>0.089482</td>\n",
       "      <td>0.027479</td>\n",
       "    </tr>\n",
       "    <tr>\n",
       "      <th>105</th>\n",
       "      <td>6.850285</td>\n",
       "      <td>6.792506</td>\n",
       "      <td>7.022087</td>\n",
       "      <td>0.080128</td>\n",
       "      <td>0.024670</td>\n",
       "    </tr>\n",
       "    <tr>\n",
       "      <th>110</th>\n",
       "      <td>5.030281</td>\n",
       "      <td>4.975909</td>\n",
       "      <td>5.330386</td>\n",
       "      <td>0.070777</td>\n",
       "      <td>0.021821</td>\n",
       "    </tr>\n",
       "    <tr>\n",
       "      <th>115</th>\n",
       "      <td>3.631328</td>\n",
       "      <td>3.582841</td>\n",
       "      <td>4.022551</td>\n",
       "      <td>0.061805</td>\n",
       "      <td>0.019013</td>\n",
       "    </tr>\n",
       "    <tr>\n",
       "      <th>120</th>\n",
       "      <td>2.588619</td>\n",
       "      <td>2.547189</td>\n",
       "      <td>3.027392</td>\n",
       "      <td>0.053808</td>\n",
       "      <td>0.016347</td>\n",
       "    </tr>\n",
       "  </tbody>\n",
       "</table>\n",
       "</div>"
      ],
      "text/plain": [
       "        Heston Price    Avg. MC   Avg. CMC  Std-err MC  Std-err CMC\n",
       "Strike                                                             \n",
       "90         15.123767  15.067219  14.918804    0.107157     0.032862\n",
       "95         11.899730  11.840692  11.791840    0.098487     0.030214\n",
       "100         9.135562   9.076150   9.161854    0.089482     0.027479\n",
       "105         6.850285   6.792506   7.022087    0.080128     0.024670\n",
       "110         5.030281   4.975909   5.330386    0.070777     0.021821\n",
       "115         3.631328   3.582841   4.022551    0.061805     0.019013\n",
       "120         2.588619   2.547189   3.027392    0.053808     0.016347"
      ]
     },
     "execution_count": 19,
     "metadata": {},
     "output_type": "execute_result"
    }
   ],
   "source": [
    "price_rho_1 = pd.DataFrame(price[1,:,:],index = [str(i) for i in K[0]],columns = ['Heston Price','Avg. MC', 'Avg. CMC', 'Std-err MC', 'Std-err CMC'])\n",
    "print(\"Analysis of Prices for Rho = - 0.3\")\n",
    "price_rho_1 = price_rho_1.rename_axis('Strike')\n",
    "price_rho_1"
   ]
  },
  {
   "cell_type": "code",
   "execution_count": 20,
   "id": "c669ecc1",
   "metadata": {},
   "outputs": [
    {
     "data": {
      "text/plain": [
       "Strike\n",
       "90    -69.332764\n",
       "95    -69.322121\n",
       "100   -69.290770\n",
       "105   -69.212033\n",
       "110   -69.169864\n",
       "115   -69.237085\n",
       "120   -69.620628\n",
       "dtype: float64"
      ]
     },
     "execution_count": 20,
     "metadata": {},
     "output_type": "execute_result"
    }
   ],
   "source": [
    "percent_reduction1 = 100 * (price_rho_1['Std-err CMC'] - price_rho_1['Std-err MC'])/price_rho_1['Std-err MC']\n",
    "percent_reduction1"
   ]
  },
  {
   "cell_type": "markdown",
   "id": "af4a6c82",
   "metadata": {},
   "source": [
    "## For ρ = - 0.3, we observe that there is a higher variance reduction for in the money call options and it decreases as the call option becomes out of the money. The reduction in standard deviation is ~ 70% for in the money call options and it goes down to ~ 65% for out of the money call options. Comparing the variance reduction with ρ = 0, we can see that the variance reduction significanly decreases as the |ρ| increases to 0.3."
   ]
  },
  {
   "cell_type": "code",
   "execution_count": 21,
   "id": "4f406eaa",
   "metadata": {},
   "outputs": [
    {
     "name": "stdout",
     "output_type": "stream",
     "text": [
      "Analysis of Prices for Rho = - 0.7\n"
     ]
    },
    {
     "data": {
      "text/html": [
       "<div>\n",
       "<style scoped>\n",
       "    .dataframe tbody tr th:only-of-type {\n",
       "        vertical-align: middle;\n",
       "    }\n",
       "\n",
       "    .dataframe tbody tr th {\n",
       "        vertical-align: top;\n",
       "    }\n",
       "\n",
       "    .dataframe thead th {\n",
       "        text-align: right;\n",
       "    }\n",
       "</style>\n",
       "<table border=\"1\" class=\"dataframe\">\n",
       "  <thead>\n",
       "    <tr style=\"text-align: right;\">\n",
       "      <th></th>\n",
       "      <th>Heston Price</th>\n",
       "      <th>Avg. MC</th>\n",
       "      <th>Avg. CMC</th>\n",
       "      <th>Std-err MC</th>\n",
       "      <th>Std-err CMC</th>\n",
       "    </tr>\n",
       "    <tr>\n",
       "      <th>Strike</th>\n",
       "      <th></th>\n",
       "      <th></th>\n",
       "      <th></th>\n",
       "      <th></th>\n",
       "      <th></th>\n",
       "    </tr>\n",
       "  </thead>\n",
       "  <tbody>\n",
       "    <tr>\n",
       "      <th>90</th>\n",
       "      <td>15.351648</td>\n",
       "      <td>15.284472</td>\n",
       "      <td>14.913801</td>\n",
       "      <td>0.099519</td>\n",
       "      <td>0.082691</td>\n",
       "    </tr>\n",
       "    <tr>\n",
       "      <th>95</th>\n",
       "      <td>12.013042</td>\n",
       "      <td>11.942091</td>\n",
       "      <td>11.787463</td>\n",
       "      <td>0.091644</td>\n",
       "      <td>0.075913</td>\n",
       "    </tr>\n",
       "    <tr>\n",
       "      <th>100</th>\n",
       "      <td>9.079658</td>\n",
       "      <td>9.009017</td>\n",
       "      <td>9.158084</td>\n",
       "      <td>0.082148</td>\n",
       "      <td>0.068785</td>\n",
       "    </tr>\n",
       "    <tr>\n",
       "      <th>105</th>\n",
       "      <td>6.591095</td>\n",
       "      <td>6.523905</td>\n",
       "      <td>7.018873</td>\n",
       "      <td>0.071522</td>\n",
       "      <td>0.061604</td>\n",
       "    </tr>\n",
       "    <tr>\n",
       "      <th>110</th>\n",
       "      <td>4.569949</td>\n",
       "      <td>4.509799</td>\n",
       "      <td>5.327678</td>\n",
       "      <td>0.060868</td>\n",
       "      <td>0.054582</td>\n",
       "    </tr>\n",
       "    <tr>\n",
       "      <th>115</th>\n",
       "      <td>3.013378</td>\n",
       "      <td>2.963173</td>\n",
       "      <td>4.020318</td>\n",
       "      <td>0.050878</td>\n",
       "      <td>0.047889</td>\n",
       "    </tr>\n",
       "    <tr>\n",
       "      <th>120</th>\n",
       "      <td>1.886748</td>\n",
       "      <td>1.847440</td>\n",
       "      <td>3.025610</td>\n",
       "      <td>0.040437</td>\n",
       "      <td>0.041675</td>\n",
       "    </tr>\n",
       "  </tbody>\n",
       "</table>\n",
       "</div>"
      ],
      "text/plain": [
       "        Heston Price    Avg. MC   Avg. CMC  Std-err MC  Std-err CMC\n",
       "Strike                                                             \n",
       "90         15.351648  15.284472  14.913801    0.099519     0.082691\n",
       "95         12.013042  11.942091  11.787463    0.091644     0.075913\n",
       "100         9.079658   9.009017   9.158084    0.082148     0.068785\n",
       "105         6.591095   6.523905   7.018873    0.071522     0.061604\n",
       "110         4.569949   4.509799   5.327678    0.060868     0.054582\n",
       "115         3.013378   2.963173   4.020318    0.050878     0.047889\n",
       "120         1.886748   1.847440   3.025610    0.040437     0.041675"
      ]
     },
     "execution_count": 21,
     "metadata": {},
     "output_type": "execute_result"
    }
   ],
   "source": [
    "price_rho_2 = pd.DataFrame(price[2,:,:],index = [str(i) for i in K[0]],columns = ['Heston Price','Avg. MC', 'Avg. CMC', 'Std-err MC', 'Std-err CMC'])\n",
    "print(\"Analysis of Prices for Rho = - 0.7\")\n",
    "price_rho_2 = price_rho_2.rename_axis('Strike')\n",
    "price_rho_2"
   ]
  },
  {
   "cell_type": "code",
   "execution_count": 22,
   "id": "37ed0347",
   "metadata": {},
   "outputs": [
    {
     "data": {
      "text/plain": [
       "Strike\n",
       "90    -16.908760\n",
       "95    -17.165654\n",
       "100   -16.266727\n",
       "105   -13.867143\n",
       "110   -10.328317\n",
       "115    -5.875199\n",
       "120     3.060484\n",
       "dtype: float64"
      ]
     },
     "execution_count": 22,
     "metadata": {},
     "output_type": "execute_result"
    }
   ],
   "source": [
    "percent_reduction2 = 100 * (price_rho_2['Std-err CMC'] - price_rho_2['Std-err MC'])/price_rho_2['Std-err MC']\n",
    "percent_reduction2"
   ]
  },
  {
   "cell_type": "markdown",
   "id": "d9067985",
   "metadata": {},
   "source": [
    "## For ρ = - 0.7, we observe that there is a higher variance reduction for in the money call options and it decreases as the call option becomes out of the money. The reduction in standard deviation is ~ 16% for in the money call options and it goes down to ~ -5% for out of the money call options. Comparing the variance reduction with ρ = 0 and ρ = - 0.3, we can see that the variance reduction significanly decreases as the |ρ| increases to 0.7. The variance reduction is least when ρ = - 0.7 and for deep out of the money call options we can even observe an increase in variance."
   ]
  },
  {
   "cell_type": "code",
   "execution_count": 23,
   "id": "c79aea9e",
   "metadata": {},
   "outputs": [
    {
     "name": "stdout",
     "output_type": "stream",
     "text": [
      "Analysis of Implied Volatilities for Rho = 0\n"
     ]
    },
    {
     "data": {
      "text/html": [
       "<div>\n",
       "<style scoped>\n",
       "    .dataframe tbody tr th:only-of-type {\n",
       "        vertical-align: middle;\n",
       "    }\n",
       "\n",
       "    .dataframe tbody tr th {\n",
       "        vertical-align: top;\n",
       "    }\n",
       "\n",
       "    .dataframe thead th {\n",
       "        text-align: right;\n",
       "    }\n",
       "</style>\n",
       "<table border=\"1\" class=\"dataframe\">\n",
       "  <thead>\n",
       "    <tr style=\"text-align: right;\">\n",
       "      <th></th>\n",
       "      <th>Heston Price</th>\n",
       "      <th>Avg. MC</th>\n",
       "      <th>Avg. CMC</th>\n",
       "      <th>Std-err MC</th>\n",
       "      <th>Std-err CMC</th>\n",
       "    </tr>\n",
       "    <tr>\n",
       "      <th>Strike</th>\n",
       "      <th></th>\n",
       "      <th></th>\n",
       "      <th></th>\n",
       "      <th></th>\n",
       "      <th></th>\n",
       "    </tr>\n",
       "  </thead>\n",
       "  <tbody>\n",
       "    <tr>\n",
       "      <th>90</th>\n",
       "      <td>0.436333</td>\n",
       "      <td>0.434168</td>\n",
       "      <td>0.435926</td>\n",
       "      <td>0.007381</td>\n",
       "      <td>0.000808</td>\n",
       "    </tr>\n",
       "    <tr>\n",
       "      <th>95</th>\n",
       "      <td>0.432836</td>\n",
       "      <td>0.430702</td>\n",
       "      <td>0.432441</td>\n",
       "      <td>0.005973</td>\n",
       "      <td>0.000817</td>\n",
       "    </tr>\n",
       "    <tr>\n",
       "      <th>100</th>\n",
       "      <td>0.431385</td>\n",
       "      <td>0.429275</td>\n",
       "      <td>0.430995</td>\n",
       "      <td>0.005088</td>\n",
       "      <td>0.000821</td>\n",
       "    </tr>\n",
       "    <tr>\n",
       "      <th>105</th>\n",
       "      <td>0.431819</td>\n",
       "      <td>0.429723</td>\n",
       "      <td>0.431427</td>\n",
       "      <td>0.004499</td>\n",
       "      <td>0.000820</td>\n",
       "    </tr>\n",
       "    <tr>\n",
       "      <th>110</th>\n",
       "      <td>0.433848</td>\n",
       "      <td>0.431727</td>\n",
       "      <td>0.433450</td>\n",
       "      <td>0.004148</td>\n",
       "      <td>0.000814</td>\n",
       "    </tr>\n",
       "    <tr>\n",
       "      <th>115</th>\n",
       "      <td>0.437127</td>\n",
       "      <td>0.434951</td>\n",
       "      <td>0.436717</td>\n",
       "      <td>0.003982</td>\n",
       "      <td>0.000806</td>\n",
       "    </tr>\n",
       "    <tr>\n",
       "      <th>120</th>\n",
       "      <td>0.441312</td>\n",
       "      <td>0.439154</td>\n",
       "      <td>0.440885</td>\n",
       "      <td>0.003961</td>\n",
       "      <td>0.000799</td>\n",
       "    </tr>\n",
       "  </tbody>\n",
       "</table>\n",
       "</div>"
      ],
      "text/plain": [
       "        Heston Price   Avg. MC  Avg. CMC  Std-err MC  Std-err CMC\n",
       "Strike                                                           \n",
       "90          0.436333  0.434168  0.435926    0.007381     0.000808\n",
       "95          0.432836  0.430702  0.432441    0.005973     0.000817\n",
       "100         0.431385  0.429275  0.430995    0.005088     0.000821\n",
       "105         0.431819  0.429723  0.431427    0.004499     0.000820\n",
       "110         0.433848  0.431727  0.433450    0.004148     0.000814\n",
       "115         0.437127  0.434951  0.436717    0.003982     0.000806\n",
       "120         0.441312  0.439154  0.440885    0.003961     0.000799"
      ]
     },
     "execution_count": 23,
     "metadata": {},
     "output_type": "execute_result"
    }
   ],
   "source": [
    "imp_vol_rho_0 = pd.DataFrame(implied_volatility[0,:,:],index = [str(i) for i in K[0]],columns = ['Heston Price','Avg. MC', 'Avg. CMC', 'Std-err MC', 'Std-err CMC'])\n",
    "print(\"Analysis of Implied Volatilities for Rho = 0\")\n",
    "imp_vol_rho_0 = imp_vol_rho_0.rename_axis('Strike')\n",
    "imp_vol_rho_0"
   ]
  },
  {
   "cell_type": "code",
   "execution_count": 24,
   "id": "cb123ae7",
   "metadata": {},
   "outputs": [
    {
     "data": {
      "text/plain": [
       "Strike\n",
       "90    -89.049799\n",
       "95    -86.322459\n",
       "100   -83.864087\n",
       "105   -81.779032\n",
       "110   -80.370517\n",
       "115   -79.750185\n",
       "120   -79.839587\n",
       "dtype: float64"
      ]
     },
     "execution_count": 24,
     "metadata": {},
     "output_type": "execute_result"
    }
   ],
   "source": [
    "percent_reduction0 = 100 * (imp_vol_rho_0['Std-err CMC'] - imp_vol_rho_0['Std-err MC'])/imp_vol_rho_0['Std-err MC']\n",
    "percent_reduction0"
   ]
  },
  {
   "cell_type": "markdown",
   "id": "0b7e4bc5",
   "metadata": {},
   "source": [
    "## For ρ = 0, the variance reduction in implied volatility is highest for in the money call options and it decreases as the option goes out of the money. The reduction in standard deviation is ~ 90% for in the money call options and it goes down to ~ 80% for out of the money call options.\n"
   ]
  },
  {
   "cell_type": "code",
   "execution_count": 25,
   "id": "8a6010d9",
   "metadata": {},
   "outputs": [
    {
     "name": "stdout",
     "output_type": "stream",
     "text": [
      "Analysis of Implied Volatilities for Rho = - 0.3\n"
     ]
    },
    {
     "data": {
      "text/html": [
       "<div>\n",
       "<style scoped>\n",
       "    .dataframe tbody tr th:only-of-type {\n",
       "        vertical-align: middle;\n",
       "    }\n",
       "\n",
       "    .dataframe tbody tr th {\n",
       "        vertical-align: top;\n",
       "    }\n",
       "\n",
       "    .dataframe thead th {\n",
       "        text-align: right;\n",
       "    }\n",
       "</style>\n",
       "<table border=\"1\" class=\"dataframe\">\n",
       "  <thead>\n",
       "    <tr style=\"text-align: right;\">\n",
       "      <th></th>\n",
       "      <th>Heston Price</th>\n",
       "      <th>Avg. MC</th>\n",
       "      <th>Avg. CMC</th>\n",
       "      <th>Std-err MC</th>\n",
       "      <th>Std-err CMC</th>\n",
       "    </tr>\n",
       "    <tr>\n",
       "      <th>Strike</th>\n",
       "      <th></th>\n",
       "      <th></th>\n",
       "      <th></th>\n",
       "      <th></th>\n",
       "      <th></th>\n",
       "    </tr>\n",
       "  </thead>\n",
       "  <tbody>\n",
       "    <tr>\n",
       "      <th>90</th>\n",
       "      <td>0.448590</td>\n",
       "      <td>0.445100</td>\n",
       "      <td>0.435751</td>\n",
       "      <td>0.006598</td>\n",
       "      <td>0.000813</td>\n",
       "    </tr>\n",
       "    <tr>\n",
       "      <th>95</th>\n",
       "      <td>0.438287</td>\n",
       "      <td>0.435077</td>\n",
       "      <td>0.432268</td>\n",
       "      <td>0.005353</td>\n",
       "      <td>0.000814</td>\n",
       "    </tr>\n",
       "    <tr>\n",
       "      <th>100</th>\n",
       "      <td>0.429621</td>\n",
       "      <td>0.426601</td>\n",
       "      <td>0.430832</td>\n",
       "      <td>0.004548</td>\n",
       "      <td>0.000814</td>\n",
       "    </tr>\n",
       "    <tr>\n",
       "      <th>105</th>\n",
       "      <td>0.422754</td>\n",
       "      <td>0.419850</td>\n",
       "      <td>0.431280</td>\n",
       "      <td>0.004026</td>\n",
       "      <td>0.000812</td>\n",
       "    </tr>\n",
       "    <tr>\n",
       "      <th>110</th>\n",
       "      <td>0.417751</td>\n",
       "      <td>0.414903</td>\n",
       "      <td>0.433321</td>\n",
       "      <td>0.003707</td>\n",
       "      <td>0.000808</td>\n",
       "    </tr>\n",
       "    <tr>\n",
       "      <th>115</th>\n",
       "      <td>0.414551</td>\n",
       "      <td>0.411773</td>\n",
       "      <td>0.436608</td>\n",
       "      <td>0.003539</td>\n",
       "      <td>0.000805</td>\n",
       "    </tr>\n",
       "    <tr>\n",
       "      <th>120</th>\n",
       "      <td>0.412971</td>\n",
       "      <td>0.410265</td>\n",
       "      <td>0.440795</td>\n",
       "      <td>0.003510</td>\n",
       "      <td>0.000802</td>\n",
       "    </tr>\n",
       "  </tbody>\n",
       "</table>\n",
       "</div>"
      ],
      "text/plain": [
       "        Heston Price   Avg. MC  Avg. CMC  Std-err MC  Std-err CMC\n",
       "Strike                                                           \n",
       "90          0.448590  0.445100  0.435751    0.006598     0.000813\n",
       "95          0.438287  0.435077  0.432268    0.005353     0.000814\n",
       "100         0.429621  0.426601  0.430832    0.004548     0.000814\n",
       "105         0.422754  0.419850  0.431280    0.004026     0.000812\n",
       "110         0.417751  0.414903  0.433321    0.003707     0.000808\n",
       "115         0.414551  0.411773  0.436608    0.003539     0.000805\n",
       "120         0.412971  0.410265  0.440795    0.003510     0.000802"
      ]
     },
     "execution_count": 25,
     "metadata": {},
     "output_type": "execute_result"
    }
   ],
   "source": [
    "imp_vol_rho_1 = pd.DataFrame(implied_volatility[1,:,:],index = [str(i) for i in K[0]],columns = ['Heston Price','Avg. MC', 'Avg. CMC', 'Std-err MC', 'Std-err CMC'])\n",
    "print(\"Analysis of Implied Volatilities for Rho = - 0.3\")\n",
    "imp_vol_rho_1 = imp_vol_rho_1.rename_axis('Strike')\n",
    "imp_vol_rho_1"
   ]
  },
  {
   "cell_type": "code",
   "execution_count": 26,
   "id": "ed2c77a7",
   "metadata": {},
   "outputs": [
    {
     "data": {
      "text/plain": [
       "Strike\n",
       "90    -87.670106\n",
       "95    -84.792801\n",
       "100   -82.103235\n",
       "105   -79.835727\n",
       "110   -78.192632\n",
       "115   -77.266170\n",
       "120   -77.158700\n",
       "dtype: float64"
      ]
     },
     "execution_count": 26,
     "metadata": {},
     "output_type": "execute_result"
    }
   ],
   "source": [
    "percent_reduction1 = 100 * (imp_vol_rho_1['Std-err CMC'] - imp_vol_rho_1['Std-err MC'])/imp_vol_rho_1['Std-err MC']\n",
    "percent_reduction1"
   ]
  },
  {
   "cell_type": "markdown",
   "id": "33ee3da3",
   "metadata": {},
   "source": [
    "## For ρ = - 0.3, the variance reduction is highest for in the money call options and it decreases as the option goes out of the money similar to the case of rho = 0, however the variance reduction is slightly less for ρ = - 0.3 compared to ρ = 0. The reduction in standard deviation is ~ 88% for in the money call options and it goes down to ~ 75% for out of the money call options."
   ]
  },
  {
   "cell_type": "code",
   "execution_count": 27,
   "id": "b47aa214",
   "metadata": {},
   "outputs": [
    {
     "name": "stdout",
     "output_type": "stream",
     "text": [
      "Analysis of Implied Volatilities for Rho = - 0.7\n"
     ]
    },
    {
     "data": {
      "text/html": [
       "<div>\n",
       "<style scoped>\n",
       "    .dataframe tbody tr th:only-of-type {\n",
       "        vertical-align: middle;\n",
       "    }\n",
       "\n",
       "    .dataframe tbody tr th {\n",
       "        vertical-align: top;\n",
       "    }\n",
       "\n",
       "    .dataframe thead th {\n",
       "        text-align: right;\n",
       "    }\n",
       "</style>\n",
       "<table border=\"1\" class=\"dataframe\">\n",
       "  <thead>\n",
       "    <tr style=\"text-align: right;\">\n",
       "      <th></th>\n",
       "      <th>Heston Price</th>\n",
       "      <th>Avg. MC</th>\n",
       "      <th>Avg. CMC</th>\n",
       "      <th>Std-err MC</th>\n",
       "      <th>Std-err CMC</th>\n",
       "    </tr>\n",
       "    <tr>\n",
       "      <th>Strike</th>\n",
       "      <th></th>\n",
       "      <th></th>\n",
       "      <th></th>\n",
       "      <th></th>\n",
       "      <th></th>\n",
       "    </tr>\n",
       "  </thead>\n",
       "  <tbody>\n",
       "    <tr>\n",
       "      <th>90</th>\n",
       "      <td>0.462534</td>\n",
       "      <td>0.458425</td>\n",
       "      <td>0.435752</td>\n",
       "      <td>0.006078</td>\n",
       "      <td>0.001251</td>\n",
       "    </tr>\n",
       "    <tr>\n",
       "      <th>95</th>\n",
       "      <td>0.444440</td>\n",
       "      <td>0.440586</td>\n",
       "      <td>0.432271</td>\n",
       "      <td>0.004976</td>\n",
       "      <td>0.001268</td>\n",
       "    </tr>\n",
       "    <tr>\n",
       "      <th>100</th>\n",
       "      <td>0.426779</td>\n",
       "      <td>0.423190</td>\n",
       "      <td>0.430833</td>\n",
       "      <td>0.004175</td>\n",
       "      <td>0.001307</td>\n",
       "    </tr>\n",
       "    <tr>\n",
       "      <th>105</th>\n",
       "      <td>0.409727</td>\n",
       "      <td>0.406349</td>\n",
       "      <td>0.431277</td>\n",
       "      <td>0.003596</td>\n",
       "      <td>0.001360</td>\n",
       "    </tr>\n",
       "    <tr>\n",
       "      <th>110</th>\n",
       "      <td>0.393560</td>\n",
       "      <td>0.390379</td>\n",
       "      <td>0.433315</td>\n",
       "      <td>0.003219</td>\n",
       "      <td>0.001427</td>\n",
       "    </tr>\n",
       "    <tr>\n",
       "      <th>115</th>\n",
       "      <td>0.378644</td>\n",
       "      <td>0.375660</td>\n",
       "      <td>0.436598</td>\n",
       "      <td>0.003024</td>\n",
       "      <td>0.001504</td>\n",
       "    </tr>\n",
       "    <tr>\n",
       "      <th>120</th>\n",
       "      <td>0.365393</td>\n",
       "      <td>0.362573</td>\n",
       "      <td>0.440786</td>\n",
       "      <td>0.002898</td>\n",
       "      <td>0.001591</td>\n",
       "    </tr>\n",
       "  </tbody>\n",
       "</table>\n",
       "</div>"
      ],
      "text/plain": [
       "        Heston Price   Avg. MC  Avg. CMC  Std-err MC  Std-err CMC\n",
       "Strike                                                           \n",
       "90          0.462534  0.458425  0.435752    0.006078     0.001251\n",
       "95          0.444440  0.440586  0.432271    0.004976     0.001268\n",
       "100         0.426779  0.423190  0.430833    0.004175     0.001307\n",
       "105         0.409727  0.406349  0.431277    0.003596     0.001360\n",
       "110         0.393560  0.390379  0.433315    0.003219     0.001427\n",
       "115         0.378644  0.375660  0.436598    0.003024     0.001504\n",
       "120         0.365393  0.362573  0.440786    0.002898     0.001591"
      ]
     },
     "execution_count": 27,
     "metadata": {},
     "output_type": "execute_result"
    }
   ],
   "source": [
    "imp_vol_rho_2 = pd.DataFrame(implied_volatility[2,:,:],index = [str(i) for i in K[0]],columns = ['Heston Price','Avg. MC', 'Avg. CMC', 'Std-err MC', 'Std-err CMC'])\n",
    "print(\"Analysis of Implied Volatilities for Rho = - 0.7\")\n",
    "imp_vol_rho_2 = imp_vol_rho_2.rename_axis('Strike')\n",
    "imp_vol_rho_2"
   ]
  },
  {
   "cell_type": "code",
   "execution_count": 28,
   "id": "3004f0ec",
   "metadata": {},
   "outputs": [
    {
     "data": {
      "text/plain": [
       "Strike\n",
       "90    -79.417153\n",
       "95    -74.509226\n",
       "100   -68.699490\n",
       "105   -62.171397\n",
       "110   -55.671612\n",
       "115   -50.251163\n",
       "120   -45.104697\n",
       "dtype: float64"
      ]
     },
     "execution_count": 28,
     "metadata": {},
     "output_type": "execute_result"
    }
   ],
   "source": [
    "percent_reduction2 = 100 * (imp_vol_rho_2['Std-err CMC'] - imp_vol_rho_2['Std-err MC'])/imp_vol_rho_2['Std-err MC']\n",
    "percent_reduction2"
   ]
  },
  {
   "cell_type": "markdown",
   "id": "f59ed368",
   "metadata": {},
   "source": [
    "## For ρ = - 0.7, the variance reduction is highest for in the money call options and it decreases as the option goes out of the money similar to the case of ρ = 0 and ρ = - 0.3, however the variance reduction is least for ρ = - 0.7 compared to ρ = 0 and ρ = - 0.3 for a particular strike value. The reduction in standard deviation is ~ 80% for in the money call options and it goes down to ~ 45% for out of the money call options."
   ]
  },
  {
   "cell_type": "markdown",
   "id": "b6d5e7aa",
   "metadata": {},
   "source": [
    "## In general, Conditional Monte Carlo method gives a reduced variance for our estimates of option prices and implied volatilities compared to the Standard Monte Carlo method. "
   ]
  },
  {
   "cell_type": "markdown",
   "id": "46a3c6de",
   "metadata": {},
   "source": [
    "## There is more variance reduction when ρ = 0 as the Brownian motion of stock price and volatility are independent, making the Conditional Monte Carlo method more effective in reducing variance. As |ρ| increase, the brownian motions become more correlated and affects the variance reduction. Also as ρ < 0, the asset price and volatility are negatively correlated so the volatility will be lower when asset price is higher and vice versa. This results in increased variance in estimation of call option price, making it more difficult to achieve variance reduction using Conditional Monte Carlo as |ρ| increases"
   ]
  },
  {
   "cell_type": "code",
   "execution_count": null,
   "id": "a33f52d3",
   "metadata": {},
   "outputs": [],
   "source": []
  }
 ],
 "metadata": {
  "kernelspec": {
   "display_name": "Python 3 (ipykernel)",
   "language": "python",
   "name": "python3"
  },
  "language_info": {
   "codemirror_mode": {
    "name": "ipython",
    "version": 3
   },
   "file_extension": ".py",
   "mimetype": "text/x-python",
   "name": "python",
   "nbconvert_exporter": "python",
   "pygments_lexer": "ipython3",
   "version": "3.11.5"
  }
 },
 "nbformat": 4,
 "nbformat_minor": 5
}
