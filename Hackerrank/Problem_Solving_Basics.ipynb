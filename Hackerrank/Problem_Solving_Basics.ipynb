{
 "cells": [
  {
   "cell_type": "markdown",
   "id": "b3cdf072",
   "metadata": {},
   "source": [
    "## Task 1\n",
    "\n",
    "### Raghav is a shoe shop owner. His shop has X number of shoes.\n",
    "### He has a list containing the size of each shoe he has in his shop.\n",
    "### There are N number of customers who are willing to pay X<sub>i</sub> amount of money only if they get the shoe of their desired size.\n",
    "\n",
    "### Your task is to compute how much money Raghav earned.\n",
    "\n",
    "### Input Format\n",
    "\n",
    "### The first line contains X , the number of shoes.\n",
    "### The second line contains the space separated list of all the shoe sizes in the shop.\n",
    "### The third line contains N, the number of customers.\n",
    "### The next N lines contain the space separated values of the shoes sizes desired by the customer and X<sub>i</sub>, the price of the shoe.\n",
    "\n",
    "### Constraints:\n",
    "### 0 < X < 10<sup>3</sup>\n",
    "### 0 < N < 10<sup>3</sup>\n",
    "### 20 < X<sub>i</sub> < 100\n",
    "### 2< shoes size<20"
   ]
  },
  {
   "cell_type": "code",
   "execution_count": null,
   "id": "ac766344",
   "metadata": {},
   "outputs": [],
   "source": [
    "## Import relevant libraries\n",
    "from collections import Counter"
   ]
  },
  {
   "cell_type": "code",
   "execution_count": 4,
   "id": "d1803213",
   "metadata": {},
   "outputs": [],
   "source": [
    "def amount_calculator(X,shoes,num_cust,cust_pref):\n",
    "    amount = 0\n",
    "    for i in range(num_cust):\n",
    "        size, price = cust_pref[i]\n",
    "        if (shoes[size]!=0):\n",
    "            amount += price\n",
    "            shoes[size] += -1\n",
    "        else:\n",
    "            continue\n",
    "    return amount"
   ]
  },
  {
   "cell_type": "code",
   "execution_count": 5,
   "id": "c67c267c",
   "metadata": {},
   "outputs": [],
   "source": [
    "### Sample Input\n",
    "X = 10\n",
    "shoes =  Counter([2, 3, 4, 5, 6, 8, 7, 6, 5, 18])\n",
    "num_cust = 6\n",
    "cust_pref = [(6, 55), (6, 45),(6, 55), (4, 40), (18, 60), (10, 50)]\n",
    "\n",
    "amount = amount_calculator(X,shoes,num_cust, cust_pref)"
   ]
  },
  {
   "cell_type": "markdown",
   "id": "40bd015e",
   "metadata": {},
   "source": [
    "## Task 2\n",
    "### A newly opened multinational brand has decided to base their company logo on the three most common characters in the company name. They are now trying out various combinations of company names and logos based on this condition. Given a string str, which is the company name in lowercase letters, your task is to find the top three most common characters in the string.\n",
    "\n",
    "### Print the three most common characters along with their occurrence count.\n",
    "### Sort in descending order of occurrence count.\n",
    "### If the occurrence count is the same, sort the characters in alphabetical order.\n",
    "### For example, according to the conditions described above,\n",
    "\n",
    "### AAPLE would have it's logo with the letters A,E,L.\n",
    "\n",
    "### Input Format\n",
    "\n",
    "### A single line of input containing the string .\n",
    "\n",
    "### Constraints\n",
    "### 3 < len(str) < 10<sup>4</sup>\n",
    "### str has at least 3 distinct characters\n",
    "\n",
    "### Output Format\n",
    "\n",
    "### Print the three most common characters along with their occurrence count each on a separate line.\n",
    "### Sort output in descending order of occurrence count.\n",
    "### If the occurrence count is the same, sort the characters in alphabetical order."
   ]
  },
  {
   "cell_type": "code",
   "execution_count": 15,
   "id": "fbb78559",
   "metadata": {},
   "outputs": [
    {
     "name": "stdout",
     "output_type": "stream",
     "text": [
      "b 3\n",
      "a 2\n",
      "c 2\n"
     ]
    }
   ],
   "source": [
    "s = 'aabbbccde'\n",
    "character = Counter([c for c in s]).most_common()\n",
    "\n",
    "char_dict = {}\n",
    "for char in character:\n",
    "    if (char[1] not in char_dict.keys()):\n",
    "        char_dict[char[1]] = list(char[0])\n",
    "    else:\n",
    "        char_dict[char[1]].append(char[0])\n",
    "\n",
    "count = 3\n",
    "for i in char_dict.keys():\n",
    "    ls_sorted = sorted(char_dict[i])\n",
    "    for j in range(len(char_dict[i])):\n",
    "        if (count>0):\n",
    "            print(ls_sorted[j],i)\n",
    "            count += -1\n",
    "        else:\n",
    "            break\n"
   ]
  },
  {
   "cell_type": "code",
   "execution_count": null,
   "id": "0b61438f",
   "metadata": {},
   "outputs": [],
   "source": []
  }
 ],
 "metadata": {
  "kernelspec": {
   "display_name": "Python 3 (ipykernel)",
   "language": "python",
   "name": "python3"
  },
  "language_info": {
   "codemirror_mode": {
    "name": "ipython",
    "version": 3
   },
   "file_extension": ".py",
   "mimetype": "text/x-python",
   "name": "python",
   "nbconvert_exporter": "python",
   "pygments_lexer": "ipython3",
   "version": "3.9.12"
  }
 },
 "nbformat": 4,
 "nbformat_minor": 5
}
