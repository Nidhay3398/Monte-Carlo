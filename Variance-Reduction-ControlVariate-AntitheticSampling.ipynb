{
 "cells": [
  {
   "cell_type": "markdown",
   "id": "9b5a9246",
   "metadata": {},
   "source": [
    "# Control Variate and Antithetic Sampling"
   ]
  },
  {
   "cell_type": "markdown",
   "id": "f8045af5",
   "metadata": {},
   "source": [
    "### Import Libraries"
   ]
  },
  {
   "cell_type": "code",
   "execution_count": 1,
   "id": "26fdfe4c",
   "metadata": {},
   "outputs": [],
   "source": [
    "import numpy as np\n",
    "from scipy.stats import norm\n",
    "from scipy.optimize import minimize\n",
    "from scipy.stats import gmean\n",
    "import pandas as pd\n",
    "import matplotlib.pyplot as plt\n",
    "from scipy.signal import savgol_filter"
   ]
  },
  {
   "cell_type": "markdown",
   "id": "81716af5",
   "metadata": {},
   "source": [
    "### Define variables"
   ]
  },
  {
   "cell_type": "code",
   "execution_count": 2,
   "id": "597c98d1",
   "metadata": {},
   "outputs": [],
   "source": [
    "S0 = 100\n",
    "sigma = 0.2\n",
    "r = 0.05\n",
    "q = 0.02\n",
    "T = 1\n",
    "m = 4\n",
    "K = np.arange(90, 125, 5)\n",
    "D = np.exp(-r*T)\n",
    "t = np.linspace(T/m, T, m)\n",
    "#dt = T/m\n",
    "N = 100 # Monte Carlo sample size\n",
    "L = 100 # number of trials\n",
    "\n",
    "# Initialize variables\n",
    "Call_MC = np.zeros((len(K), L))\n",
    "Call_CV = np.zeros((len(K), L))\n",
    "Call_ANT = np.zeros((len(K), L))"
   ]
  },
  {
   "cell_type": "markdown",
   "id": "cf3526c8",
   "metadata": {},
   "source": [
    "### Define Black Formula"
   ]
  },
  {
   "cell_type": "code",
   "execution_count": 3,
   "id": "07df6dd3",
   "metadata": {},
   "outputs": [],
   "source": [
    "def black(F, K, r, T, sigma, q):\n",
    "    \"\"\"\n",
    "    Computes the price of a European call option using the Black-Scholes formula.\n",
    "    \n",
    "    Parameters:\n",
    "    S0 (float): initial stock price\n",
    "    sigma (float): volatility\n",
    "    q (float): dividend yield\n",
    "    r (float): risk-free interest rate\n",
    "    T (float): time to maturity\n",
    "    K (float): strike price\n",
    "    \n",
    "    Returns:\n",
    "    float: the estimated price of the call option\n",
    "    \"\"\"\n",
    "        \n",
    "    d1 = (np.log(F/K) + (-q + 0.5*sigma**2)*T) / (sigma*np.sqrt(T))\n",
    "    d2 = d1 - sigma*np.sqrt(T)\n",
    "    Nd1 = norm.cdf(d1)\n",
    "    Nd2 = norm.cdf(d2)\n",
    "    return np.exp(-r*T)*(F*np.exp(-q*T)*Nd1 - K*Nd2)"
   ]
  },
  {
   "cell_type": "markdown",
   "id": "4d024137",
   "metadata": {},
   "source": [
    "### Compute new Sigma and Mean using Moments (Geometric)"
   ]
  },
  {
   "cell_type": "code",
   "execution_count": 4,
   "id": "ebcaa649",
   "metadata": {},
   "outputs": [],
   "source": [
    "drift = (r-0.5*sigma**2)*(T/m**2)*sum([i for i in range(1,m+1)])\n",
    "diffusion = ((T*sigma**2)/(2*m**3))*sum([i**2 for i in range(1,m+1)])\n",
    "M1_p = np.exp(drift + diffusion)\n",
    "\n",
    "drift1 = (r-0.5*sigma**2)*((2*T)/m**2)*sum([i for i in range(1,m+1)])\n",
    "diffusion1 = ((2*T*sigma**2)/(m**3))*sum([i**2 for i in range(1,m+1)])\n",
    "M2_p = np.exp(drift1 + diffusion1)\n",
    "M2_p\n",
    "\n",
    "sigma_p = np.sqrt(np.log(M2_p/M1_p**2)/T)"
   ]
  },
  {
   "cell_type": "markdown",
   "id": "78afe359",
   "metadata": {},
   "source": [
    "### Standard MC | Control Variate | Antithetic Variate"
   ]
  },
  {
   "cell_type": "code",
   "execution_count": 5,
   "id": "d3688e12",
   "metadata": {},
   "outputs": [],
   "source": [
    "for i in range(L):\n",
    "    # Monte Carlo Asian Call\n",
    "    W = np.cumsum(np.random.randn(N, m)*np.sqrt(T/m), axis=1)\n",
    "    S = S0*np.exp((r-q-0.5*sigma**2)*t + sigma*W)\n",
    "    M = np.mean(S, axis=1)            # Arithmetic mean\n",
    "    Mv, Kv = np.meshgrid(M, K)\n",
    "    psi_asian = D*np.maximum(Mv-Kv, 0)  # Arithmetic payoff\n",
    "    Call_MC[:, i] = np.mean(psi_asian, axis=1)\n",
    "\n",
    "    # Control variate - Geometric mean\n",
    "    C = np.exp(np.mean(np.log(S),axis=1))    # Geometric mean\n",
    "    Sv, _ = np.meshgrid(C, K)\n",
    "    psi_geo = D*np.maximum(Sv-Kv, 0)   # Geometric payoff\n",
    "    black_geo = np.tile(black(M1_p*S0, K, r, T, sigma_p, q).reshape(-1,1),(1,100))\n",
    "    cov_init = np.cov(psi_asian,psi_geo)\n",
    "    cov = np.array([cov_init[i,i+7] for i in range(7)])\n",
    "    var = np.array([cov_init[i,i] for i in range(7,14)])\n",
    "    covar = cov/var\n",
    "    b_optim = np.tile(covar.reshape(7,1),(1,100))\n",
    "    psi_cv = psi_asian - b_optim*(psi_geo-black_geo)   \n",
    "    Call_CV[:, i] = np.mean(psi_cv, axis=1)\n",
    "    \n",
    "    # Antithetic Variates\n",
    "    N1 = 50\n",
    "    W1 = np.cumsum(np.random.randn(N1, m)*np.sqrt(T/m), axis=1)\n",
    "    ST = S0*np.exp((r-q-.5*sigma**2)*t + sigma*W1);\n",
    "    A = np.mean(ST, axis=1)\n",
    "    Sv,K_v = np.meshgrid(A,K)\n",
    "    psi_ant = D*(np.maximum(Sv-K_v,0))\n",
    "    tildeST = S0*np.exp((r-q-0.5*sigma**2)*t - sigma*W1)\n",
    "    A_tilde = np.mean(tildeST,axis=1)\n",
    "    tildeSv, _ = np.meshgrid(A_tilde, K)\n",
    "    tilde_psi = D*(np.maximum(tildeSv - K_v,0))\n",
    "    Call_ANT[:, i] = np.mean(0.5*(psi_ant + tilde_psi), axis=1)"
   ]
  },
  {
   "cell_type": "markdown",
   "id": "bbd9ca31",
   "metadata": {},
   "source": [
    "### Average Values and Standard Error"
   ]
  },
  {
   "cell_type": "code",
   "execution_count": 6,
   "id": "48ccb8c6",
   "metadata": {},
   "outputs": [],
   "source": [
    "# compute mean and standard error of trials\n",
    "avg = np.column_stack((np.mean(Call_MC, axis=1), np.mean(Call_CV, axis=1),np.mean(Call_ANT, axis=1)))\n",
    "err = np.column_stack((np.std(Call_MC, axis=1), np.std(Call_CV, axis=1),np.std(Call_ANT, axis=1)))"
   ]
  },
  {
   "cell_type": "markdown",
   "id": "ab1b7f54",
   "metadata": {},
   "source": [
    "### DataFrame - Average Prices"
   ]
  },
  {
   "cell_type": "code",
   "execution_count": 7,
   "id": "c8e117b5",
   "metadata": {},
   "outputs": [
    {
     "data": {
      "text/html": [
       "<div>\n",
       "<style scoped>\n",
       "    .dataframe tbody tr th:only-of-type {\n",
       "        vertical-align: middle;\n",
       "    }\n",
       "\n",
       "    .dataframe tbody tr th {\n",
       "        vertical-align: top;\n",
       "    }\n",
       "\n",
       "    .dataframe thead th {\n",
       "        text-align: right;\n",
       "    }\n",
       "</style>\n",
       "<table border=\"1\" class=\"dataframe\">\n",
       "  <thead>\n",
       "    <tr style=\"text-align: right;\">\n",
       "      <th></th>\n",
       "      <th>Standard MC</th>\n",
       "      <th>Control Variate</th>\n",
       "      <th>Antithetic Sampling</th>\n",
       "    </tr>\n",
       "    <tr>\n",
       "      <th>K</th>\n",
       "      <th></th>\n",
       "      <th></th>\n",
       "      <th></th>\n",
       "    </tr>\n",
       "  </thead>\n",
       "  <tbody>\n",
       "    <tr>\n",
       "      <th>90</th>\n",
       "      <td>12.228478</td>\n",
       "      <td>11.936119</td>\n",
       "      <td>12.423752</td>\n",
       "    </tr>\n",
       "    <tr>\n",
       "      <th>95</th>\n",
       "      <td>8.775159</td>\n",
       "      <td>8.521007</td>\n",
       "      <td>8.900288</td>\n",
       "    </tr>\n",
       "    <tr>\n",
       "      <th>100</th>\n",
       "      <td>5.997486</td>\n",
       "      <td>5.781691</td>\n",
       "      <td>6.057615</td>\n",
       "    </tr>\n",
       "    <tr>\n",
       "      <th>105</th>\n",
       "      <td>3.890787</td>\n",
       "      <td>3.727510</td>\n",
       "      <td>3.903241</td>\n",
       "    </tr>\n",
       "    <tr>\n",
       "      <th>110</th>\n",
       "      <td>2.398103</td>\n",
       "      <td>2.287914</td>\n",
       "      <td>2.379634</td>\n",
       "    </tr>\n",
       "    <tr>\n",
       "      <th>115</th>\n",
       "      <td>1.414310</td>\n",
       "      <td>1.341995</td>\n",
       "      <td>1.389213</td>\n",
       "    </tr>\n",
       "    <tr>\n",
       "      <th>120</th>\n",
       "      <td>0.799692</td>\n",
       "      <td>0.756077</td>\n",
       "      <td>0.775180</td>\n",
       "    </tr>\n",
       "  </tbody>\n",
       "</table>\n",
       "</div>"
      ],
      "text/plain": [
       "     Standard MC  Control Variate  Antithetic Sampling\n",
       "K                                                     \n",
       "90     12.228478        11.936119            12.423752\n",
       "95      8.775159         8.521007             8.900288\n",
       "100     5.997486         5.781691             6.057615\n",
       "105     3.890787         3.727510             3.903241\n",
       "110     2.398103         2.287914             2.379634\n",
       "115     1.414310         1.341995             1.389213\n",
       "120     0.799692         0.756077             0.775180"
      ]
     },
     "execution_count": 7,
     "metadata": {},
     "output_type": "execute_result"
    }
   ],
   "source": [
    "# create dataframe for standard deviation\n",
    "avg_df = pd.DataFrame({\n",
    "    'K': K,\n",
    "    'Standard MC': avg[:, 0],\n",
    "    'Control Variate': avg[:, 1],\n",
    "    'Antithetic Sampling': avg[:, 2]\n",
    "}).set_index('K')\n",
    "avg_df"
   ]
  },
  {
   "cell_type": "markdown",
   "id": "bd896f88",
   "metadata": {},
   "source": [
    "### Plotting Average Prices of Standard MC, Control Variate and Antithetic"
   ]
  },
  {
   "cell_type": "code",
   "execution_count": 8,
   "id": "38610500",
   "metadata": {
    "scrolled": false
   },
   "outputs": [
    {
     "data": {
      "image/png": "[encoded data removed]",
      "text/plain": [
       "<Figure size 640x480 with 1 Axes>"
      ]
     },
     "metadata": {},
     "output_type": "display_data"
    }
   ],
   "source": [
    "plt.plot(K, savgol_filter(avg[:,0], 7, 3), linestyle='--', label='Standard MC')\n",
    "plt.plot(K, savgol_filter(avg[:,1], 7, 3), linestyle='--', label='Control Variate')\n",
    "plt.plot(K, savgol_filter(avg[:,2], 7, 3), linestyle='--', label='Antithetic Sampling')\n",
    "plt.xlabel('K')\n",
    "plt.ylabel('Average estimator')\n",
    "plt.title('Average estimator vs. K')\n",
    "plt.legend()\n",
    "plt.show()"
   ]
  },
  {
   "cell_type": "markdown",
   "id": "aaaa8c8e",
   "metadata": {},
   "source": [
    "### DataFrame - Standard Error"
   ]
  },
  {
   "cell_type": "code",
   "execution_count": 9,
   "id": "fa04c6fd",
   "metadata": {},
   "outputs": [
    {
     "data": {
      "text/html": [
       "<div>\n",
       "<style scoped>\n",
       "    .dataframe tbody tr th:only-of-type {\n",
       "        vertical-align: middle;\n",
       "    }\n",
       "\n",
       "    .dataframe tbody tr th {\n",
       "        vertical-align: top;\n",
       "    }\n",
       "\n",
       "    .dataframe thead th {\n",
       "        text-align: right;\n",
       "    }\n",
       "</style>\n",
       "<table border=\"1\" class=\"dataframe\">\n",
       "  <thead>\n",
       "    <tr style=\"text-align: right;\">\n",
       "      <th></th>\n",
       "      <th>Standard MC</th>\n",
       "      <th>Control Variate</th>\n",
       "      <th>Antithetic Sampling</th>\n",
       "    </tr>\n",
       "    <tr>\n",
       "      <th>K</th>\n",
       "      <th></th>\n",
       "      <th></th>\n",
       "      <th></th>\n",
       "    </tr>\n",
       "  </thead>\n",
       "  <tbody>\n",
       "    <tr>\n",
       "      <th>90</th>\n",
       "      <td>1.105991</td>\n",
       "      <td>0.025905</td>\n",
       "      <td>0.494005</td>\n",
       "    </tr>\n",
       "    <tr>\n",
       "      <th>95</th>\n",
       "      <td>1.005180</td>\n",
       "      <td>0.027556</td>\n",
       "      <td>0.594859</td>\n",
       "    </tr>\n",
       "    <tr>\n",
       "      <th>100</th>\n",
       "      <td>0.892729</td>\n",
       "      <td>0.024397</td>\n",
       "      <td>0.640913</td>\n",
       "    </tr>\n",
       "    <tr>\n",
       "      <th>105</th>\n",
       "      <td>0.751425</td>\n",
       "      <td>0.023437</td>\n",
       "      <td>0.620882</td>\n",
       "    </tr>\n",
       "    <tr>\n",
       "      <th>110</th>\n",
       "      <td>0.597650</td>\n",
       "      <td>0.023855</td>\n",
       "      <td>0.539801</td>\n",
       "    </tr>\n",
       "    <tr>\n",
       "      <th>115</th>\n",
       "      <td>0.457841</td>\n",
       "      <td>0.026546</td>\n",
       "      <td>0.432710</td>\n",
       "    </tr>\n",
       "    <tr>\n",
       "      <th>120</th>\n",
       "      <td>0.345895</td>\n",
       "      <td>0.027367</td>\n",
       "      <td>0.330575</td>\n",
       "    </tr>\n",
       "  </tbody>\n",
       "</table>\n",
       "</div>"
      ],
      "text/plain": [
       "     Standard MC  Control Variate  Antithetic Sampling\n",
       "K                                                     \n",
       "90      1.105991         0.025905             0.494005\n",
       "95      1.005180         0.027556             0.594859\n",
       "100     0.892729         0.024397             0.640913\n",
       "105     0.751425         0.023437             0.620882\n",
       "110     0.597650         0.023855             0.539801\n",
       "115     0.457841         0.026546             0.432710\n",
       "120     0.345895         0.027367             0.330575"
      ]
     },
     "execution_count": 9,
     "metadata": {},
     "output_type": "execute_result"
    }
   ],
   "source": [
    "# create dataframe for standard deviation\n",
    "std_df = pd.DataFrame({\n",
    "    'K': K,\n",
    "    'Standard MC': err[:, 0],\n",
    "    'Control Variate': err[:, 1],\n",
    "    'Antithetic Sampling': err[:, 2]\n",
    "}).set_index('K')\n",
    "std_df"
   ]
  },
  {
   "cell_type": "markdown",
   "id": "54ffcdf1",
   "metadata": {},
   "source": [
    "Observation:\n",
    "1. The control variate sees a significant drop in standard error when compared to Standard Monte Carlo for ITM options\n",
    "2. The Antithetic sampling standard errors see a drop of more than 50% when compared to Standard Monte Carlo for ITM options\n",
    "3. For ITM options the variance reduciton works very well, but for OTM options it does not.\n",
    "4. The geometric asian works very well as a control variate since it is highly correlated with arithmetic asian options\n",
    "5. We see that control variate method shows the best results in terms of average prices and standard errors"
   ]
  }
 ],
 "metadata": {
  "kernelspec": {
   "display_name": "Python 3 (ipykernel)",
   "language": "python",
   "name": "python3"
  },
  "language_info": {
   "codemirror_mode": {
    "name": "ipython",
    "version": 3
   },
   "file_extension": ".py",
   "mimetype": "text/x-python",
   "name": "python",
   "nbconvert_exporter": "python",
   "pygments_lexer": "ipython3",
   "version": "3.11.5"
  }
 },
 "nbformat": 4,
 "nbformat_minor": 5
}
