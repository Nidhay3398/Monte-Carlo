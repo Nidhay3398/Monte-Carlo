{
 "cells": [
  {
   "cell_type": "markdown",
   "id": "1ca9643a",
   "metadata": {},
   "source": [
    "# Pricing an Asian Option"
   ]
  },
  {
   "cell_type": "markdown",
   "id": "acb2836c",
   "metadata": {},
   "source": [
    "### Import Libraries"
   ]
  },
  {
   "cell_type": "code",
   "execution_count": 1,
   "id": "97bcb2ad",
   "metadata": {},
   "outputs": [],
   "source": [
    "import numpy as np\n",
    "import pandas as pd\n",
    "import math\n",
    "from scipy.stats import norm\n",
    "import matplotlib.pyplot as plt\n",
    "from scipy.signal import savgol_filter"
   ]
  },
  {
   "cell_type": "markdown",
   "id": "dceb64d7",
   "metadata": {},
   "source": [
    "### Set Parameters"
   ]
  },
  {
   "cell_type": "code",
   "execution_count": 2,
   "id": "1db79054",
   "metadata": {},
   "outputs": [],
   "source": [
    "T = [1,5]\n",
    "m = [4,20]\n",
    "S0 = 100\n",
    "r = 0.05\n",
    "sigma = 0.2\n",
    "N = 5000\n",
    "Ks = np.arange(90, 121)"
   ]
  },
  {
   "cell_type": "markdown",
   "id": "76fae94a",
   "metadata": {},
   "source": [
    "### Define Functions"
   ]
  },
  {
   "cell_type": "markdown",
   "id": "9101a651",
   "metadata": {},
   "source": [
    "#### 1. Function to get Monte Carlo Simulation Price"
   ]
  },
  {
   "cell_type": "code",
   "execution_count": 3,
   "id": "54c61086",
   "metadata": {},
   "outputs": [],
   "source": [
    "def monte_carlo_price(S0, K, r, sigma, T, m, N):\n",
    "    \"\"\"\n",
    "    Computes the price of an Asian option using Monte Carlo simulation.\n",
    "    \n",
    "    Parameters:\n",
    "    S0 (float): initial stock price\n",
    "    K (float): strike price\n",
    "    r (float): risk-free interest rate\n",
    "    sigma (float): volatility\n",
    "    T (float): time to maturity\n",
    "    m (int): number of time steps\n",
    "    N (int): number of simulations\n",
    "    \n",
    "    Returns:\n",
    "    float: the estimated price of the Asian Call option\n",
    "    \"\"\"\n",
    "    # Compute time step size\n",
    "    dt = T / m\n",
    "    \n",
    "    # Initialize array to store stock prices\n",
    "    St = np.zeros((N, m+1))\n",
    "\n",
    "    # Set S0 as the starting point for simulation in each column\n",
    "    St[:, 0] = S0 \n",
    "    \n",
    "    # Simulate stock price paths using standard Brownian motion\n",
    "    for i in range(1, m+1):\n",
    "        # Generate N normally distributed random numbers\n",
    "        dW = np.random.normal(0, np.sqrt(dt), size=N)\n",
    "        \n",
    "        # Update stock prices using the Black-Scholes formula\n",
    "        St[:, i] = St[:, i-1] * np.exp((r - 0.5 * sigma**2) * dt + sigma * dW)\n",
    "\n",
    "    # Compute the Asian option payoffs\n",
    "    Sti = St[:, 1:]\n",
    "    prices = np.exp(-r * T) * np.maximum(np.sum(Sti, axis=1) / m - K, 0)\n",
    "    \n",
    "    # Save the average values from 5000 simulations in numpy array\n",
    "    # to be used \n",
    "    bach_dist = np.sum(Sti, axis=1) / m\n",
    "    \n",
    "    # Compute the estimated price of the Asian option as the mean of the payoffs\n",
    "    price = np.mean(prices)\n",
    "    \n",
    "    # Return Asian Call Option Price and simulation results to be used in Bachelier Model\n",
    "    return [round(price, 2)], bach_dist"
   ]
  },
  {
   "cell_type": "markdown",
   "id": "ca0742ce",
   "metadata": {},
   "source": [
    "#### 2. Functions to get price through log normal approximation using the Black Scholes Formula"
   ]
  },
  {
   "cell_type": "markdown",
   "id": "fe5a0492",
   "metadata": {},
   "source": [
    "2(a). Black Scholes Formula (used in main function to calculate log normal price)"
   ]
  },
  {
   "cell_type": "code",
   "execution_count": 4,
   "id": "be4b7104",
   "metadata": {},
   "outputs": [],
   "source": [
    "def black_scholes_formula(S0, sigma, r, T, K):\n",
    "    \"\"\"\n",
    "    Computes the price of a European call option using the Black-Scholes formula.\n",
    "    \n",
    "    Parameters:\n",
    "    S0 (float): initial stock price\n",
    "    sigma (float): volatility\n",
    "    r (float): risk-free interest rate\n",
    "    T (float): time to maturity\n",
    "    K (float): strike price\n",
    "    \n",
    "    Returns:\n",
    "    float: the estimated price of the call option\n",
    "    \"\"\"\n",
    "    # Compute d1 and d2, which are intermediate variables used in the Black-Scholes formula\n",
    "    d1 = (math.log(S0/K) + (r + (sigma**2/2))*(T)) / (math.sqrt(T)*sigma)\n",
    "    d2 = d1 - (math.sqrt(T) * sigma)\n",
    "    \n",
    "    # Compute the price of the call option using the Black-Scholes formula\n",
    "    C = (S0 * norm.cdf(d1)) - (K * math.exp(-r*T) * norm.cdf(d2))\n",
    "    \n",
    "    # Round the estimated price to two decimal places and return it\n",
    "    return round(C, 2)"
   ]
  },
  {
   "cell_type": "markdown",
   "id": "4ef5005a",
   "metadata": {},
   "source": [
    "2(b). Formula to calculate M2 used in log normal approximation pricing"
   ]
  },
  {
   "cell_type": "code",
   "execution_count": 5,
   "id": "99844e81",
   "metadata": {},
   "outputs": [],
   "source": [
    "def calculate_M2(r, dt, sigma, S0, m):\n",
    "    \"\"\"\n",
    "    Calculates the second moment of the stock price at maturity using the Euler-Maruyama discretization.\n",
    "    \n",
    "    Parameters:\n",
    "    r (float): the risk-free interest rate\n",
    "    dt (float): the time step size\n",
    "    sigma (float): the volatility of the stock price\n",
    "    S0 (float): the initial stock price\n",
    "    m (int): the number of time steps\n",
    "    \n",
    "    Returns:\n",
    "    float: the estimated second moment of the stock price at maturity\n",
    "    \"\"\"\n",
    "    M2 = 0  # Initialize the second moment\n",
    "    \n",
    "    # Compute the sum of the cross terms of the Euler-Maruyama discretization\n",
    "    for j in range(1, m+1):\n",
    "        for i in range(1, j):\n",
    "            M2 += 2 * ((S0 * np.exp(r*i*dt)) * (S0 * np.exp(r*j*dt)) * (np.exp((sigma ** 2) * i * dt)))\n",
    "    \n",
    "    # Compute the sum of the squared terms of the Euler-Maruyama discretization\n",
    "    for i in range(1, m+1):\n",
    "        M2 += ((S0 * np.exp(r*i*dt))**2) * np.exp((sigma**2)*(i*dt))\n",
    "    \n",
    "    # Compute the estimated second moment by dividing by the square of the number of time steps\n",
    "    return (M2 / (m**2))"
   ]
  },
  {
   "cell_type": "markdown",
   "id": "4f43e440",
   "metadata": {},
   "source": [
    "2(c). Main function to calculate log normal price"
   ]
  },
  {
   "cell_type": "code",
   "execution_count": 6,
   "id": "010ef602",
   "metadata": {},
   "outputs": [],
   "source": [
    "def log_normal_price(S0, K, r, sigma, T, m):\n",
    "    \"\"\"\n",
    "    Computes the price of an Asian option using the log-normal approximation method.\n",
    "    \n",
    "    Parameters:\n",
    "    S0 (float): the initial stock price\n",
    "    K (float): the strike price\n",
    "    r (float): the risk-free interest rate\n",
    "    sigma (float): the volatility of the stock price\n",
    "    T (float): the time to maturity of the option\n",
    "    m (int): the number of time steps\n",
    "    \n",
    "    Returns:\n",
    "    float: the estimated price of the Asian option using the log-normal approximation method\n",
    "    \"\"\"\n",
    "    # Compute time step size\n",
    "    dt = T/m\n",
    "    \n",
    "    # Compute the first moment of the stock price at maturity\n",
    "    M1 = np.sum(np.array([S0*np.exp(r*i*dt) for i in range(1, m+1)])) / m\n",
    "    \n",
    "    # Compute the second moment of the stock price at maturity by calling the calculate_M2 function defined above\n",
    "    M2 = calculate_M2(r, dt, sigma, S0, m)\n",
    "    \n",
    "    # Compute the estimated volatility and drift of the stock price using the log-normal approximation method\n",
    "    sigma_hat = math.sqrt((1/T) * math.log(M2 / (M1**2)))\n",
    "    S0_hat = M1 * np.exp(-r * T)\n",
    "    \n",
    "    # Use the estimated volatility and drift to compute the price of the Asian option using the Black-Scholes formula\n",
    "    return black_scholes_formula(S0_hat, sigma_hat, r, T, K)"
   ]
  },
  {
   "cell_type": "markdown",
   "id": "6a71d2ca",
   "metadata": {},
   "source": [
    "#### 3. Function to get prices with normal approximation using the Bachelier Call Formula"
   ]
  },
  {
   "cell_type": "code",
   "execution_count": 7,
   "id": "43d0f0fc",
   "metadata": {},
   "outputs": [],
   "source": [
    "def bachelier_price(bach_dist, K, r, T):\n",
    "    \"\"\"\n",
    "    Computes the price of an Asian option using the Bachelier Normal approximation method.\n",
    "    \n",
    "    Parameters:\n",
    "    S0 (float): the initial stock price\n",
    "    K (float): the strike price\n",
    "    r (float): the risk-free interest rate\n",
    "    sigma (float): the volatility of the stock price\n",
    "    T (float): the time to maturity of the option\n",
    "    \n",
    "    Returns:\n",
    "    float: the estimated price of the Asian option using the Normal approximation method\n",
    "    \"\"\"\n",
    "\n",
    "    # Calculate F and sigma for bachelier distribution\n",
    "    Fb = bach_dist.mean()\n",
    "    sigmaB = bach_dist.std()\n",
    "    \n",
    "    # Calculate the standardized normal variable\n",
    "    Z = (Fb - K) / (sigmaB)\n",
    "    \n",
    "    # Use the Bachelier Call formula to calculate the option price\n",
    "    C = np.exp(-r*T) * ((Fb - K)*norm.cdf(Z) + (sigmaB * norm.pdf(Z, loc=0, scale=1)))\n",
    "    \n",
    "    # Round the option price to two decimal places and return\n",
    "    return round(C, 2)"
   ]
  },
  {
   "cell_type": "markdown",
   "id": "37ceebce",
   "metadata": {},
   "source": [
    "### Main Code:\n",
    "    - Fetches the asian option price through three methods defined\n",
    "    - Runs the code of a range of strike prices and for different combinations of (T, m)\n",
    "    - Stores the results in a dataframe and prints it"
   ]
  },
  {
   "cell_type": "code",
   "execution_count": 8,
   "id": "2a1ed747",
   "metadata": {},
   "outputs": [],
   "source": [
    "# Initialize two empty dictionaries to store Asian option call prices for two different values of (T,m) i.e. (1,4) and (5,20)\n",
    "asian_option_1_4 = {}\n",
    "asian_option_5_20 = {}\n",
    "\n",
    "# For each strike price (K), fetch the call option prices using\n",
    "# Monte Carlo, log normal, and Bachelier pricing models for the two different (T,m) values\n",
    "\n",
    "for K in Ks:\n",
    "    # For (1,4) calculate the call option prices and store in the dictionary asian_option_1_4\n",
    "    asian_option_1_4[K], bach_dist_1 = monte_carlo_price(S0, K, r, sigma, T[0], m[0], N)\n",
    "    asian_option_1_4[K].append(log_normal_price(S0, K, r, sigma, T[0], m[0]))\n",
    "    asian_option_1_4[K].append(bachelier_price(bach_dist_1, K, r, T[0]))\n",
    "    \n",
    "    # For (5,20) calculate the call option prices and store in the dictionary asian_option_5_20\n",
    "    asian_option_5_20[K], bach_dist_2 = monte_carlo_price(S0, K, r, sigma, T[1], m[1], N)\n",
    "    asian_option_5_20[K].append(log_normal_price(S0, K, r, sigma, T[1], m[1]))\n",
    "    asian_option_5_20[K].append(bachelier_price(bach_dist_2, K, r, T[1]))\n",
    "\n",
    "# Convert the dictionaries asian_option_1_4 and asian_option_5_20 into pandas DataFrames with the strike prices as the index and the prices obtained from each pricing model as columns\n",
    "asian_price_1_4_df = pd.DataFrame.from_dict(asian_option_1_4, orient='index', columns=['Monte Carlo', 'log normal','Bachelier'])\n",
    "asian_price_5_20_df = pd.DataFrame.from_dict(asian_option_5_20, orient='index', columns=['Monte Carlo', 'log normal','Bachelier'])\n",
    "\n",
    "# Rename the index of the DataFrames to 'Strike'\n",
    "asian_price_1_4_df = asian_price_1_4_df.rename_axis('Strike')\n",
    "asian_price_5_20_df = asian_price_5_20_df.rename_axis('Strike')"
   ]
  },
  {
   "cell_type": "code",
   "execution_count": 9,
   "id": "6c64cc0a",
   "metadata": {},
   "outputs": [
    {
     "name": "stdout",
     "output_type": "stream",
     "text": [
      "Asian Option Price when T = 1 and m = 4:\n",
      "\n",
      "         Monte Carlo  log normal  Bachelier\n",
      "Strike                                    \n",
      "90            13.86       13.61      14.12\n",
      "91            12.89       12.83      13.12\n",
      "92            12.34       12.08      12.63\n",
      "93            11.36       11.35      11.64\n",
      "94            10.69       10.65      10.93\n",
      "95             9.43        9.97       9.64\n",
      "96             9.42        9.31       9.63\n",
      "97             8.60        8.68       8.78\n",
      "98             8.07        8.08       8.20\n",
      "99             7.59        7.50       7.73\n",
      "100            6.77        6.95       6.85\n",
      "101            6.39        6.43       6.45\n",
      "102            6.17        5.94       6.24\n",
      "103            5.36        5.47       5.37\n",
      "104            5.07        5.03       5.10\n",
      "105            4.81        4.61       4.83\n",
      "106            4.36        4.22       4.33\n",
      "107            3.62        3.86       3.59\n",
      "108            3.41        3.52       3.32\n",
      "109            3.06        3.20       2.94\n",
      "110            2.84        2.91       2.71\n",
      "111            2.55        2.64       2.40\n",
      "112            2.21        2.39       2.04\n",
      "113            2.26        2.16       2.07\n",
      "114            1.91        1.95       1.69\n",
      "115            1.71        1.75       1.51\n",
      "116            1.70        1.57       1.43\n",
      "117            1.40        1.41       1.17\n",
      "118            1.28        1.26       1.07\n",
      "119            1.23        1.13       1.00\n",
      "120            1.01        1.00       0.79\n"
     ]
    }
   ],
   "source": [
    "# Display asian option prices for So = $100, r = 5%, sigma = 0.2, T = 1 and m = 4\n",
    "print(\"Asian Option Price when T = 1 and m = 4:\\n\\n\", asian_price_1_4_df)"
   ]
  },
  {
   "cell_type": "code",
   "execution_count": 10,
   "id": "d251fc82",
   "metadata": {},
   "outputs": [
    {
     "name": "stdout",
     "output_type": "stream",
     "text": [
      "Asian Option Price when T = 5 and m = 20:\n",
      "\n",
      "         Monte Carlo  log normal  Bachelier\n",
      "Strike                                    \n",
      "90            20.84       21.29      22.09\n",
      "91            20.52       20.70      21.61\n",
      "92            20.39       20.12      21.64\n",
      "93            19.71       19.55      20.86\n",
      "94            18.54       18.99      19.67\n",
      "95            18.12       18.44      19.18\n",
      "96            17.34       17.90      18.39\n",
      "97            17.10       17.37      18.24\n",
      "98            16.98       16.84      17.95\n",
      "99            16.33       16.34      17.11\n",
      "100           15.93       15.84      17.01\n",
      "101           15.78       15.35      16.65\n",
      "102           14.57       14.87      15.58\n",
      "103           14.59       14.40      15.38\n",
      "104           13.30       13.94      14.13\n",
      "105           13.73       13.50      14.45\n",
      "106           12.83       13.06      13.41\n",
      "107           12.65       12.64      13.45\n",
      "108           12.17       12.22      12.66\n",
      "109           11.59       11.82      12.11\n",
      "110           10.93       11.42      11.45\n",
      "111           10.91       11.04      11.41\n",
      "112           10.05       10.66      10.58\n",
      "113           10.37       10.30      10.75\n",
      "114            9.60        9.95       9.83\n",
      "115           10.25        9.60      10.58\n",
      "116            9.49        9.27       9.73\n",
      "117            8.68        8.94       8.85\n",
      "118            8.50        8.62       8.56\n",
      "119            8.25        8.32       8.36\n",
      "120            8.35        8.02       8.38\n"
     ]
    }
   ],
   "source": [
    "# Display asian option prices for So = $100, r = 5%, sigma = 0.2, T = 5 and m = 20\n",
    "print(\"Asian Option Price when T = 5 and m = 20:\\n\\n\", asian_price_5_20_df)"
   ]
  },
  {
   "cell_type": "markdown",
   "id": "e13b3c40",
   "metadata": {},
   "source": [
    "### Conclusion:\n",
    "\n",
    "At T = 1, all three prices almost overlap and give similar results. Based on the analysis conducted, it can be concluded that for shorter periods, both the log-normal and Bachelier approximation methods provide accurate results, with the log-normal method performing slightly better. However, as the time to maturity increases, the Bachelier method begins to produce prices with larger errors, while the log-normal method continues to provide good estimates. This is evident from the fact that, at T = 5 years, the log-normal prices closely match the Monte Carlo estimates, while the Bachelier prices exhibit relatively poor results. Hence, for longer time periods, the log-normal method is more reliable in accurately estimating prices."
   ]
  },
  {
   "cell_type": "markdown",
   "id": "1f03cc2e",
   "metadata": {},
   "source": [
    "### Additional Analysis by plotting"
   ]
  },
  {
   "cell_type": "code",
   "execution_count": 11,
   "id": "ed31ce76",
   "metadata": {},
   "outputs": [
    {
     "data": {
      "image/png": "[encoded data removed]",
      "text/plain": [
       "<Figure size 720x432 with 1 Axes>"
      ]
     },
     "metadata": {
      "needs_background": "light"
     },
     "output_type": "display_data"
    }
   ],
   "source": [
    "\"\"\" \n",
    "Plot Asian Option Price obtained through \n",
    "Monte Carlo Simulation (n = 5000), Log Normal Approximation and Bachelier Normal Approximation\n",
    "when T = 1 and m = 4\n",
    "\"\"\"\n",
    "# Apply Savitzky-Golay filter to smoothen the line\n",
    "asian_price_1_4_df['Monte Carlo Smooth'] = savgol_filter(asian_price_1_4_df['Monte Carlo'], window_length=21, polyorder=2)\n",
    "asian_price_1_4_df['Bachelier Smooth'] = savgol_filter(asian_price_1_4_df['Bachelier'], window_length=21, polyorder=2)\n",
    "\n",
    "# Define the figure and axes objects\n",
    "fig, ax = plt.subplots(figsize=(10, 6))\n",
    "\n",
    "# Plot the three columns against the index\n",
    "asian_price_1_4_df.plot(ax=ax, y=['Monte Carlo Smooth', 'log normal', 'Bachelier Smooth'], linestyle=('-.'))\n",
    "\n",
    "# Set the labels and title\n",
    "ax.set_xlabel('Strike Price')\n",
    "ax.set_ylabel('Asian Option Price')\n",
    "ax.set_title('Asian Option Price for So = $100, r = 5%, sigma = 0.2, T = 1 and m = 4')\n",
    "\n",
    "# Add the legend\n",
    "ax.legend(['Monte Carlo (n=5000)', 'Log Normal', 'Bachelier'])\n",
    "\n",
    "# Show the plot\n",
    "plt.show()"
   ]
  },
  {
   "cell_type": "code",
   "execution_count": 12,
   "id": "105d8cb7",
   "metadata": {},
   "outputs": [
    {
     "data": {
      "image/png": "[encoded data removed]",
      "text/plain": [
       "<Figure size 720x432 with 1 Axes>"
      ]
     },
     "metadata": {
      "needs_background": "light"
     },
     "output_type": "display_data"
    }
   ],
   "source": [
    "\"\"\" \n",
    "Plot Asian Option Price obtained through \n",
    "Monte Carlo Simulation (n = 5000), Log Normal Approximation and Bachelier Normal Approximation\n",
    "when T = 5 and m = 20\n",
    "\"\"\"\n",
    "# Apply Savitzky-Golay filter to smoothen the line\n",
    "asian_price_5_20_df['Monte Carlo Smooth'] = savgol_filter(asian_price_5_20_df['Monte Carlo'], window_length=21, polyorder=2)\n",
    "asian_price_5_20_df['Bachelier Smooth'] = savgol_filter(asian_price_5_20_df['Bachelier'], window_length=21, polyorder=2)\n",
    "\n",
    "# Define the figure and axes objects\n",
    "fig, ax = plt.subplots(figsize=(10, 6))\n",
    "\n",
    "# Plot the three columns against the index\n",
    "asian_price_5_20_df.plot(ax=ax, y=['Monte Carlo Smooth', 'log normal', 'Bachelier Smooth'], linestyle=('-.'))\n",
    "\n",
    "# Set the labels and title\n",
    "ax.set_xlabel('Strike Price')\n",
    "ax.set_ylabel('Asian Option Price')\n",
    "ax.set_title('Asian Option Price for So = $100, r = 5%, sigma = 0.2, T = 5 and m = 20')\n",
    "\n",
    "# Add the legend\n",
    "ax.legend(['Monte Carlo (n=5000)', 'Log Normal', 'Bachelier'])\n",
    "\n",
    "# Show the plot\n",
    "plt.show()"
   ]
  }
 ],
 "metadata": {
  "kernelspec": {
   "display_name": "Python 3 (ipykernel)",
   "language": "python",
   "name": "python3"
  },
  "language_info": {
   "codemirror_mode": {
    "name": "ipython",
    "version": 3
   },
   "file_extension": ".py",
   "mimetype": "text/x-python",
   "name": "python",
   "nbconvert_exporter": "python",
   "pygments_lexer": "ipython3",
   "version": "3.9.12"
  }
 },
 "nbformat": 4,
 "nbformat_minor": 5
}
